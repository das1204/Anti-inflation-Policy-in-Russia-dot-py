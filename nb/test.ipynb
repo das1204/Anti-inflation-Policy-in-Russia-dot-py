{
 "cells": [
  {
   "cell_type": "markdown",
   "id": "01f18c1f",
   "metadata": {},
   "source": [
    "# НАЧАЛО"
   ]
  },
  {
   "cell_type": "markdown",
   "id": "c8f7e117",
   "metadata": {},
   "source": [
    "## Импорт библиотек"
   ]
  },
  {
   "cell_type": "code",
   "execution_count": 11,
   "id": "5ddcd3be",
   "metadata": {},
   "outputs": [],
   "source": [
    "import numpy as np\n",
    "import pandas as pd\n",
    "import plotly.graph_objects as go\n",
    "from datetime import datetime, timedelta"
   ]
  },
  {
   "cell_type": "markdown",
   "id": "9fd5ffbb",
   "metadata": {},
   "source": [
    "## Константы"
   ]
  },
  {
   "cell_type": "code",
   "execution_count": null,
   "id": "cfd9b29c",
   "metadata": {},
   "outputs": [],
   "source": [
    "DATA_PATH = \"../data/\"\n",
    "SAVE_PATH = \"../charts/\"\n",
    "\n",
    "START_DATE = datetime(2005, 7, 1)\n",
    "\n",
    "# Загружаем данные\n",
    "BETA = pd.read_excel(DATA_PATH + \"beta_gibbs.xlsx\", header=None).values\n",
    "\n",
    "X_MAT = pd.read_excel(DATA_PATH + \"X.xlsx\", header=None).values\n",
    "\n",
    "SHOCKS_AS          = pd.read_excel(DATA_PATH + \"ETA_record AS.xlsx\", header=None).values\n",
    "SHOCKS_PRIVATED_AD = pd.read_excel(DATA_PATH + \"ETA_record PrivateAD.xlsx\", header=None).values\n",
    "\n",
    "SHOCKS_MP = pd.read_excel(DATA_PATH + \"ETA_record MP.xlsx\", header=None).values\n",
    "SHOCKS_FP = pd.read_excel(DATA_PATH + \"ETA_record FP.xlsx\", header=None).values\n",
    "\n",
    "A0INV_P = pd.read_excel(DATA_PATH + \"struct_irf_record for p.xlsx\", header=None).values\n",
    "A0INV_Y = pd.read_excel(DATA_PATH + \"struct_irf_record for Y.xlsx\", header=None).values\n",
    "A0INV_I = pd.read_excel(DATA_PATH + \"struct_irf_record for i.xlsx\", header=None).values\n",
    "A0INV_B = pd.read_excel(DATA_PATH + \"struct_irf_record for B.xlsx\", header=None).values\n",
    "\n",
    "ACTUAL_P = pd.read_excel(DATA_PATH + 'actual_p.xlsx', header=None)[0].tolist()\n",
    "ACTUAL_I = pd.read_excel(DATA_PATH + 'actual_i.xlsx', header=None)[0].tolist()\n",
    "\n",
    "POIL_FORECAST = pd.read_excel(DATA_PATH + \"poil_forecast.xlsx\", header=None)[0].tolist()\n",
    "\n",
    "# Задаем параметры модели\n",
    "T = X_MAT.shape[0]\n",
    "N_ITER = BETA.shape[1]\n",
    "N_VARS = 4\n",
    "N_LAGS = 2\n",
    "N_REG = 10\n",
    "\n",
    "# Индексы переменных\n",
    "P = 0\n",
    "Y = 1\n",
    "I = 2\n",
    "B = 3\n",
    "T_FIX = 73\n",
    "I_TARGET = 7.5\n",
    "LAST_POINT = T - T_FIX + 1\n",
    "\n",
    "H = 8  # 2 года (8 кварталов)\n",
    "T_FORECAST = T + H  # 78 + 8 = 86 периодов\n",
    "I_TARGET_CONDITIONAL = 21\n",
    "\n",
    "QUARTERS = [START_DATE + timedelta(days=91.25 * i) for i in range(T)]\n",
    "\n",
    "# Готовим трехмерный объект для хранения 1000 контрфактических итераций по 4 переменным\n",
    "CF = np.zeros((T, N_ITER, N_VARS))"
   ]
  },
  {
   "cell_type": "markdown",
   "id": "f8f53489",
   "metadata": {},
   "source": [
    "## Функции"
   ]
  },
  {
   "cell_type": "code",
   "execution_count": 26,
   "id": "edf05eb0",
   "metadata": {},
   "outputs": [],
   "source": [
    "def go_plot(title: str, name: str, file_name: str, quarters: list, median, low, high, actual, yaxis_title: str=\"Инфляция (%)\"):\n",
    "    \"\"\"Рисуем и сохраняем интерактивный go график.\n",
    "\n",
    "    Args:\n",
    "        title (str): Имя графика\n",
    "        name (str): Имя ряда\n",
    "        file_name (str): Имя файла, для сохранения\n",
    "        quarters (list): Временная квартальная шкала\n",
    "        median (_type_): Медианное значение\n",
    "        low (_type_): Нижний ДИ\n",
    "        high (_type_): Верхний ДИ\n",
    "        yaxis_title (str): Имя оси Y\n",
    "    \"\"\"\n",
    "    # Создаем фигуру\n",
    "    fig = go.Figure()\n",
    "\n",
    "    # Добавляем линии на график\n",
    "    fig.add_trace(go.Scatter(x=quarters[-LAST_POINT:], y=median[-LAST_POINT:], mode='lines', name=name, line=dict(color='blue', width=3)))\n",
    "    \n",
    "    fig.add_trace(go.Scatter(x=quarters[-LAST_POINT:], y=low[-LAST_POINT:], mode='lines',\n",
    "                             name='68% ДИ: нижняя', line=dict(color='blue', width=1, dash='dash')))\n",
    "\n",
    "    fig.add_trace(go.Scatter(x=quarters[-LAST_POINT:], y=high[-LAST_POINT:], mode='lines',\n",
    "                             name='68% ДИ: верхняя', line=dict(color='blue', width=1, dash='dash')))\n",
    "\n",
    "    fig.add_trace(go.Scatter(x=quarters, y=actual, mode='lines',\n",
    "                             name='Фактическая', line=dict(color='black', width=3)))\n",
    "    \n",
    "    # Настраиваем оформление\n",
    "    fig.update_layout(title=title, xaxis_title='Квартал', yaxis_title=yaxis_title, plot_bgcolor='white', showlegend=True,\n",
    "                      paper_bgcolor='white', legend=dict(bordercolor='black', borderwidth=1),\n",
    "                      shapes=[dict(type=\"rect\", xref=\"paper\", yref=\"paper\", x0=0, y0=0, x1=1, y1=1,\n",
    "                                   line=dict(color=\"black\", width=1))])\n",
    "\n",
    "    # Добавляем сетку\n",
    "    fig.update_xaxes(showgrid=True, gridwidth=1, gridcolor='LightGrey')\n",
    "    fig.update_yaxes(showgrid=True, gridwidth=1, gridcolor='LightGrey')\n",
    "\n",
    "    fig.show()\n",
    "\n",
    "    # Сохранить график\n",
    "    fig.write_html(f\"{SAVE_PATH}{file_name}.html\")"
   ]
  },
  {
   "cell_type": "markdown",
   "id": "b4cd5520",
   "metadata": {},
   "source": [
    "# I. КОНТРФАКТИЧЕСКИЙ АНАЛИЗ"
   ]
  },
  {
   "cell_type": "markdown",
   "id": "2d23cc4f",
   "metadata": {},
   "source": [
    "## 1) Фиксированная ключевая ставка (i) = 7,5"
   ]
  },
  {
   "cell_type": "code",
   "execution_count": 8,
   "id": "82666cfe",
   "metadata": {},
   "outputs": [
    {
     "data": {
      "application/vnd.plotly.v1+json": {
       "config": {
        "plotlyServerURL": "https://plot.ly"
       },
       "data": [
        {
         "line": {
          "color": "blue",
          "width": 3
         },
         "mode": "lines",
         "name": "Контрфакт (КС = 7,5%)",
         "type": "scatter",
         "x": [
          "2023-06-27T00:00:00",
          "2023-09-26T06:00:00",
          "2023-12-26T12:00:00",
          "2024-03-26T18:00:00",
          "2024-06-26T00:00:00",
          "2024-09-25T06:00:00"
         ],
         "y": {
          "bdata": "NPpZtr+Z/z+kEXCbzIUWQNLiUlEElxRAlFQ8K+a4EkCWkWh6s8gXQF+TFZI7khtA",
          "dtype": "f8"
         }
        },
        {
         "line": {
          "color": "blue",
          "dash": "dash",
          "width": 1
         },
         "mode": "lines",
         "name": "68% ДИ: нижняя",
         "type": "scatter",
         "x": [
          "2023-06-27T00:00:00",
          "2023-09-26T06:00:00",
          "2023-12-26T12:00:00",
          "2024-03-26T18:00:00",
          "2024-06-26T00:00:00",
          "2024-09-25T06:00:00"
         ],
         "y": {
          "bdata": "af0b8+SE+T/T8IOakF4MQM8IZ1s/OAhAPWu0hKWfB0CRj+rETOQPQONhVm+ymBFA",
          "dtype": "f8"
         }
        },
        {
         "line": {
          "color": "blue",
          "dash": "dash",
          "width": 1
         },
         "mode": "lines",
         "name": "68% ДИ: верхняя",
         "type": "scatter",
         "x": [
          "2023-06-27T00:00:00",
          "2023-09-26T06:00:00",
          "2023-12-26T12:00:00",
          "2024-03-26T18:00:00",
          "2024-06-26T00:00:00",
          "2024-09-25T06:00:00"
         ],
         "y": {
          "bdata": "hbznYnOnAUDTK8LcurElQNDpxaqhVSRAIJJZQxLdIUCvN3ed254lQBxJD5EZZipA",
          "dtype": "f8"
         }
        },
        {
         "line": {
          "color": "black",
          "width": 3
         },
         "mode": "lines",
         "name": "Фактическая",
         "type": "scatter",
         "x": [
          "2005-07-01T00:00:00",
          "2005-09-30T06:00:00",
          "2005-12-30T12:00:00",
          "2006-03-31T18:00:00",
          "2006-07-01T00:00:00",
          "2006-09-30T06:00:00",
          "2006-12-30T12:00:00",
          "2007-03-31T18:00:00",
          "2007-07-01T00:00:00",
          "2007-09-30T06:00:00",
          "2007-12-30T12:00:00",
          "2008-03-30T18:00:00",
          "2008-06-30T00:00:00",
          "2008-09-29T06:00:00",
          "2008-12-29T12:00:00",
          "2009-03-30T18:00:00",
          "2009-06-30T00:00:00",
          "2009-09-29T06:00:00",
          "2009-12-29T12:00:00",
          "2010-03-30T18:00:00",
          "2010-06-30T00:00:00",
          "2010-09-29T06:00:00",
          "2010-12-29T12:00:00",
          "2011-03-30T18:00:00",
          "2011-06-30T00:00:00",
          "2011-09-29T06:00:00",
          "2011-12-29T12:00:00",
          "2012-03-29T18:00:00",
          "2012-06-29T00:00:00",
          "2012-09-28T06:00:00",
          "2012-12-28T12:00:00",
          "2013-03-29T18:00:00",
          "2013-06-29T00:00:00",
          "2013-09-28T06:00:00",
          "2013-12-28T12:00:00",
          "2014-03-29T18:00:00",
          "2014-06-29T00:00:00",
          "2014-09-28T06:00:00",
          "2014-12-28T12:00:00",
          "2015-03-29T18:00:00",
          "2015-06-29T00:00:00",
          "2015-09-28T06:00:00",
          "2015-12-28T12:00:00",
          "2016-03-28T18:00:00",
          "2016-06-28T00:00:00",
          "2016-09-27T06:00:00",
          "2016-12-27T12:00:00",
          "2017-03-28T18:00:00",
          "2017-06-28T00:00:00",
          "2017-09-27T06:00:00",
          "2017-12-27T12:00:00",
          "2018-03-28T18:00:00",
          "2018-06-28T00:00:00",
          "2018-09-27T06:00:00",
          "2018-12-27T12:00:00",
          "2019-03-28T18:00:00",
          "2019-06-28T00:00:00",
          "2019-09-27T06:00:00",
          "2019-12-27T12:00:00",
          "2020-03-27T18:00:00",
          "2020-06-27T00:00:00",
          "2020-09-26T06:00:00",
          "2020-12-26T12:00:00",
          "2021-03-27T18:00:00",
          "2021-06-27T00:00:00",
          "2021-09-26T06:00:00",
          "2021-12-26T12:00:00",
          "2022-03-27T18:00:00",
          "2022-06-27T00:00:00",
          "2022-09-26T06:00:00",
          "2022-12-26T12:00:00",
          "2023-03-27T18:00:00",
          "2023-06-27T00:00:00",
          "2023-09-26T06:00:00",
          "2023-12-26T12:00:00",
          "2024-03-26T18:00:00",
          "2024-06-26T00:00:00",
          "2024-09-25T06:00:00"
         ],
         "y": [
          2.18111833149901,
          2.1035973725509916,
          3.008490566763,
          1.8813808952500066,
          2.146002762043997,
          1.7108932529080079,
          1.8495366230800059,
          2.098137474525008,
          2.971824460969996,
          4.007774806417008,
          3.268176054898997,
          3.886299257503989,
          3.01661796288899,
          2.960147177031991,
          3.332072592233004,
          2.695402343209996,
          2.006198933923997,
          0.8419735293019981,
          1.5661570240689926,
          1.485465374660011,
          2.1517440093250073,
          2.6106386360480016,
          3.018592485248006,
          1.518080644340003,
          0.730291359113,
          1.19050570444601,
          0.504767495012004,
          1.4630899112130002,
          2.7670334714819944,
          1.5884416773700005,
          1.2263018235449952,
          1.4798560964990104,
          1.9622029884750036,
          1.534933776698999,
          1.3115881182359956,
          2.6014727216050026,
          2.102907017778999,
          3.2870579605740025,
          7.466400586513,
          2.2499806664469935,
          1.995808406484989,
          2.1675518753980105,
          1.7364383815539952,
          1.2945920190490012,
          1.4848936381459898,
          1.154284742460998,
          0.6847140022609999,
          0.8424748784300107,
          0.6842705803560056,
          0.4001620579020093,
          0.3569888209240091,
          0.9388868594520039,
          1.30339919492799,
          1.285084794254998,
          1.5665959076919922,
          0.7428891122970072,
          0.6640679512770031,
          0.4798219969130102,
          0.5667044588280046,
          1.3947501279139907,
          1.1067293340609963,
          1.3445633328680096,
          1.6354826970069958,
          1.8379173104869917,
          1.9138776666850044,
          2.7079658078660085,
          4.677696123526998,
          6.819703724996007,
          -0.3756760854630947,
          0.6815498194900016,
          1.372754720781999,
          1.0958317959709918,
          1.974338584732993,
          2.5759071304009895,
          1.7917886035629937,
          1.7484105350130008,
          2.5977079070490072,
          2.5983711193720005
         ]
        }
       ],
       "layout": {
        "legend": {
         "bordercolor": "black",
         "borderwidth": 1
        },
        "paper_bgcolor": "white",
        "plot_bgcolor": "white",
        "shapes": [
         {
          "line": {
           "color": "black",
           "width": 1
          },
          "type": "rect",
          "x0": 0,
          "x1": 1,
          "xref": "paper",
          "y0": 0,
          "y1": 1,
          "yref": "paper"
         }
        ],
        "showlegend": true,
        "template": {
         "data": {
          "bar": [
           {
            "error_x": {
             "color": "#2a3f5f"
            },
            "error_y": {
             "color": "#2a3f5f"
            },
            "marker": {
             "line": {
              "color": "#E5ECF6",
              "width": 0.5
             },
             "pattern": {
              "fillmode": "overlay",
              "size": 10,
              "solidity": 0.2
             }
            },
            "type": "bar"
           }
          ],
          "barpolar": [
           {
            "marker": {
             "line": {
              "color": "#E5ECF6",
              "width": 0.5
             },
             "pattern": {
              "fillmode": "overlay",
              "size": 10,
              "solidity": 0.2
             }
            },
            "type": "barpolar"
           }
          ],
          "carpet": [
           {
            "aaxis": {
             "endlinecolor": "#2a3f5f",
             "gridcolor": "white",
             "linecolor": "white",
             "minorgridcolor": "white",
             "startlinecolor": "#2a3f5f"
            },
            "baxis": {
             "endlinecolor": "#2a3f5f",
             "gridcolor": "white",
             "linecolor": "white",
             "minorgridcolor": "white",
             "startlinecolor": "#2a3f5f"
            },
            "type": "carpet"
           }
          ],
          "choropleth": [
           {
            "colorbar": {
             "outlinewidth": 0,
             "ticks": ""
            },
            "type": "choropleth"
           }
          ],
          "contour": [
           {
            "colorbar": {
             "outlinewidth": 0,
             "ticks": ""
            },
            "colorscale": [
             [
              0,
              "#0d0887"
             ],
             [
              0.1111111111111111,
              "#46039f"
             ],
             [
              0.2222222222222222,
              "#7201a8"
             ],
             [
              0.3333333333333333,
              "#9c179e"
             ],
             [
              0.4444444444444444,
              "#bd3786"
             ],
             [
              0.5555555555555556,
              "#d8576b"
             ],
             [
              0.6666666666666666,
              "#ed7953"
             ],
             [
              0.7777777777777778,
              "#fb9f3a"
             ],
             [
              0.8888888888888888,
              "#fdca26"
             ],
             [
              1,
              "#f0f921"
             ]
            ],
            "type": "contour"
           }
          ],
          "contourcarpet": [
           {
            "colorbar": {
             "outlinewidth": 0,
             "ticks": ""
            },
            "type": "contourcarpet"
           }
          ],
          "heatmap": [
           {
            "colorbar": {
             "outlinewidth": 0,
             "ticks": ""
            },
            "colorscale": [
             [
              0,
              "#0d0887"
             ],
             [
              0.1111111111111111,
              "#46039f"
             ],
             [
              0.2222222222222222,
              "#7201a8"
             ],
             [
              0.3333333333333333,
              "#9c179e"
             ],
             [
              0.4444444444444444,
              "#bd3786"
             ],
             [
              0.5555555555555556,
              "#d8576b"
             ],
             [
              0.6666666666666666,
              "#ed7953"
             ],
             [
              0.7777777777777778,
              "#fb9f3a"
             ],
             [
              0.8888888888888888,
              "#fdca26"
             ],
             [
              1,
              "#f0f921"
             ]
            ],
            "type": "heatmap"
           }
          ],
          "histogram": [
           {
            "marker": {
             "pattern": {
              "fillmode": "overlay",
              "size": 10,
              "solidity": 0.2
             }
            },
            "type": "histogram"
           }
          ],
          "histogram2d": [
           {
            "colorbar": {
             "outlinewidth": 0,
             "ticks": ""
            },
            "colorscale": [
             [
              0,
              "#0d0887"
             ],
             [
              0.1111111111111111,
              "#46039f"
             ],
             [
              0.2222222222222222,
              "#7201a8"
             ],
             [
              0.3333333333333333,
              "#9c179e"
             ],
             [
              0.4444444444444444,
              "#bd3786"
             ],
             [
              0.5555555555555556,
              "#d8576b"
             ],
             [
              0.6666666666666666,
              "#ed7953"
             ],
             [
              0.7777777777777778,
              "#fb9f3a"
             ],
             [
              0.8888888888888888,
              "#fdca26"
             ],
             [
              1,
              "#f0f921"
             ]
            ],
            "type": "histogram2d"
           }
          ],
          "histogram2dcontour": [
           {
            "colorbar": {
             "outlinewidth": 0,
             "ticks": ""
            },
            "colorscale": [
             [
              0,
              "#0d0887"
             ],
             [
              0.1111111111111111,
              "#46039f"
             ],
             [
              0.2222222222222222,
              "#7201a8"
             ],
             [
              0.3333333333333333,
              "#9c179e"
             ],
             [
              0.4444444444444444,
              "#bd3786"
             ],
             [
              0.5555555555555556,
              "#d8576b"
             ],
             [
              0.6666666666666666,
              "#ed7953"
             ],
             [
              0.7777777777777778,
              "#fb9f3a"
             ],
             [
              0.8888888888888888,
              "#fdca26"
             ],
             [
              1,
              "#f0f921"
             ]
            ],
            "type": "histogram2dcontour"
           }
          ],
          "mesh3d": [
           {
            "colorbar": {
             "outlinewidth": 0,
             "ticks": ""
            },
            "type": "mesh3d"
           }
          ],
          "parcoords": [
           {
            "line": {
             "colorbar": {
              "outlinewidth": 0,
              "ticks": ""
             }
            },
            "type": "parcoords"
           }
          ],
          "pie": [
           {
            "automargin": true,
            "type": "pie"
           }
          ],
          "scatter": [
           {
            "fillpattern": {
             "fillmode": "overlay",
             "size": 10,
             "solidity": 0.2
            },
            "type": "scatter"
           }
          ],
          "scatter3d": [
           {
            "line": {
             "colorbar": {
              "outlinewidth": 0,
              "ticks": ""
             }
            },
            "marker": {
             "colorbar": {
              "outlinewidth": 0,
              "ticks": ""
             }
            },
            "type": "scatter3d"
           }
          ],
          "scattercarpet": [
           {
            "marker": {
             "colorbar": {
              "outlinewidth": 0,
              "ticks": ""
             }
            },
            "type": "scattercarpet"
           }
          ],
          "scattergeo": [
           {
            "marker": {
             "colorbar": {
              "outlinewidth": 0,
              "ticks": ""
             }
            },
            "type": "scattergeo"
           }
          ],
          "scattergl": [
           {
            "marker": {
             "colorbar": {
              "outlinewidth": 0,
              "ticks": ""
             }
            },
            "type": "scattergl"
           }
          ],
          "scattermap": [
           {
            "marker": {
             "colorbar": {
              "outlinewidth": 0,
              "ticks": ""
             }
            },
            "type": "scattermap"
           }
          ],
          "scattermapbox": [
           {
            "marker": {
             "colorbar": {
              "outlinewidth": 0,
              "ticks": ""
             }
            },
            "type": "scattermapbox"
           }
          ],
          "scatterpolar": [
           {
            "marker": {
             "colorbar": {
              "outlinewidth": 0,
              "ticks": ""
             }
            },
            "type": "scatterpolar"
           }
          ],
          "scatterpolargl": [
           {
            "marker": {
             "colorbar": {
              "outlinewidth": 0,
              "ticks": ""
             }
            },
            "type": "scatterpolargl"
           }
          ],
          "scatterternary": [
           {
            "marker": {
             "colorbar": {
              "outlinewidth": 0,
              "ticks": ""
             }
            },
            "type": "scatterternary"
           }
          ],
          "surface": [
           {
            "colorbar": {
             "outlinewidth": 0,
             "ticks": ""
            },
            "colorscale": [
             [
              0,
              "#0d0887"
             ],
             [
              0.1111111111111111,
              "#46039f"
             ],
             [
              0.2222222222222222,
              "#7201a8"
             ],
             [
              0.3333333333333333,
              "#9c179e"
             ],
             [
              0.4444444444444444,
              "#bd3786"
             ],
             [
              0.5555555555555556,
              "#d8576b"
             ],
             [
              0.6666666666666666,
              "#ed7953"
             ],
             [
              0.7777777777777778,
              "#fb9f3a"
             ],
             [
              0.8888888888888888,
              "#fdca26"
             ],
             [
              1,
              "#f0f921"
             ]
            ],
            "type": "surface"
           }
          ],
          "table": [
           {
            "cells": {
             "fill": {
              "color": "#EBF0F8"
             },
             "line": {
              "color": "white"
             }
            },
            "header": {
             "fill": {
              "color": "#C8D4E3"
             },
             "line": {
              "color": "white"
             }
            },
            "type": "table"
           }
          ]
         },
         "layout": {
          "annotationdefaults": {
           "arrowcolor": "#2a3f5f",
           "arrowhead": 0,
           "arrowwidth": 1
          },
          "autotypenumbers": "strict",
          "coloraxis": {
           "colorbar": {
            "outlinewidth": 0,
            "ticks": ""
           }
          },
          "colorscale": {
           "diverging": [
            [
             0,
             "#8e0152"
            ],
            [
             0.1,
             "#c51b7d"
            ],
            [
             0.2,
             "#de77ae"
            ],
            [
             0.3,
             "#f1b6da"
            ],
            [
             0.4,
             "#fde0ef"
            ],
            [
             0.5,
             "#f7f7f7"
            ],
            [
             0.6,
             "#e6f5d0"
            ],
            [
             0.7,
             "#b8e186"
            ],
            [
             0.8,
             "#7fbc41"
            ],
            [
             0.9,
             "#4d9221"
            ],
            [
             1,
             "#276419"
            ]
           ],
           "sequential": [
            [
             0,
             "#0d0887"
            ],
            [
             0.1111111111111111,
             "#46039f"
            ],
            [
             0.2222222222222222,
             "#7201a8"
            ],
            [
             0.3333333333333333,
             "#9c179e"
            ],
            [
             0.4444444444444444,
             "#bd3786"
            ],
            [
             0.5555555555555556,
             "#d8576b"
            ],
            [
             0.6666666666666666,
             "#ed7953"
            ],
            [
             0.7777777777777778,
             "#fb9f3a"
            ],
            [
             0.8888888888888888,
             "#fdca26"
            ],
            [
             1,
             "#f0f921"
            ]
           ],
           "sequentialminus": [
            [
             0,
             "#0d0887"
            ],
            [
             0.1111111111111111,
             "#46039f"
            ],
            [
             0.2222222222222222,
             "#7201a8"
            ],
            [
             0.3333333333333333,
             "#9c179e"
            ],
            [
             0.4444444444444444,
             "#bd3786"
            ],
            [
             0.5555555555555556,
             "#d8576b"
            ],
            [
             0.6666666666666666,
             "#ed7953"
            ],
            [
             0.7777777777777778,
             "#fb9f3a"
            ],
            [
             0.8888888888888888,
             "#fdca26"
            ],
            [
             1,
             "#f0f921"
            ]
           ]
          },
          "colorway": [
           "#636efa",
           "#EF553B",
           "#00cc96",
           "#ab63fa",
           "#FFA15A",
           "#19d3f3",
           "#FF6692",
           "#B6E880",
           "#FF97FF",
           "#FECB52"
          ],
          "font": {
           "color": "#2a3f5f"
          },
          "geo": {
           "bgcolor": "white",
           "lakecolor": "white",
           "landcolor": "#E5ECF6",
           "showlakes": true,
           "showland": true,
           "subunitcolor": "white"
          },
          "hoverlabel": {
           "align": "left"
          },
          "hovermode": "closest",
          "mapbox": {
           "style": "light"
          },
          "paper_bgcolor": "white",
          "plot_bgcolor": "#E5ECF6",
          "polar": {
           "angularaxis": {
            "gridcolor": "white",
            "linecolor": "white",
            "ticks": ""
           },
           "bgcolor": "#E5ECF6",
           "radialaxis": {
            "gridcolor": "white",
            "linecolor": "white",
            "ticks": ""
           }
          },
          "scene": {
           "xaxis": {
            "backgroundcolor": "#E5ECF6",
            "gridcolor": "white",
            "gridwidth": 2,
            "linecolor": "white",
            "showbackground": true,
            "ticks": "",
            "zerolinecolor": "white"
           },
           "yaxis": {
            "backgroundcolor": "#E5ECF6",
            "gridcolor": "white",
            "gridwidth": 2,
            "linecolor": "white",
            "showbackground": true,
            "ticks": "",
            "zerolinecolor": "white"
           },
           "zaxis": {
            "backgroundcolor": "#E5ECF6",
            "gridcolor": "white",
            "gridwidth": 2,
            "linecolor": "white",
            "showbackground": true,
            "ticks": "",
            "zerolinecolor": "white"
           }
          },
          "shapedefaults": {
           "line": {
            "color": "#2a3f5f"
           }
          },
          "ternary": {
           "aaxis": {
            "gridcolor": "white",
            "linecolor": "white",
            "ticks": ""
           },
           "baxis": {
            "gridcolor": "white",
            "linecolor": "white",
            "ticks": ""
           },
           "bgcolor": "#E5ECF6",
           "caxis": {
            "gridcolor": "white",
            "linecolor": "white",
            "ticks": ""
           }
          },
          "title": {
           "x": 0.05
          },
          "xaxis": {
           "automargin": true,
           "gridcolor": "white",
           "linecolor": "white",
           "ticks": "",
           "title": {
            "standoff": 15
           },
           "zerolinecolor": "white",
           "zerolinewidth": 2
          },
          "yaxis": {
           "automargin": true,
           "gridcolor": "white",
           "linecolor": "white",
           "ticks": "",
           "title": {
            "standoff": 15
           },
           "zerolinecolor": "white",
           "zerolinewidth": 2
          }
         }
        },
        "title": {
         "text": "Инфляция, QoQ: фактическая vs контрфактическая (КС = 7,5% с 3 квартала 2023 г.)"
        },
        "xaxis": {
         "gridcolor": "LightGrey",
         "gridwidth": 1,
         "showgrid": true,
         "title": {
          "text": "Квартал"
         }
        },
        "yaxis": {
         "gridcolor": "LightGrey",
         "gridwidth": 1,
         "showgrid": true,
         "title": {
          "text": "Инфляция (%)"
         }
        }
       }
      }
     },
     "metadata": {},
     "output_type": "display_data"
    }
   ],
   "source": [
    "# Готовим объект чтобы потом мочь посмотреть новые шоки ДКП\n",
    "CF_EPS_MP = np.zeros((N_ITER, T))\n",
    "\n",
    "for i in range(N_ITER):\n",
    "    # Распаковываем параметры каждой итерации\n",
    "    beta_i = BETA[:, i]\n",
    "    \n",
    "    # Восстанавливаем коэффициенты VAR\n",
    "    B_p = beta_i[0:10]\n",
    "    B_y = beta_i[10:20]\n",
    "    B_i = beta_i[20:30]\n",
    "    B_b = beta_i[30:40]\n",
    "    \n",
    "    # Структурная матрица A0^{-1} для каждой итерации\n",
    "    A0inv_full = np.vstack([A0INV_P[i, :], A0INV_Y[i, :], A0INV_I[i, :],  A0INV_B[i, :]])\n",
    "    \n",
    "    # Шоки\n",
    "    shocks_as = SHOCKS_AS[i, :].reshape(-1, 1)\n",
    "    shocks_ad = SHOCKS_PRIVATED_AD[i, :].reshape(-1, 1)\n",
    "    shocks_mp = SHOCKS_MP[i, :].reshape(-1, 1)\n",
    "    shocks_fp = SHOCKS_FP[i, :].reshape(-1, 1)\n",
    "    \n",
    "    # Восстанавливаем начальные значения переменных до t_fix\n",
    "    Y_temp = np.zeros((T, N_VARS))\n",
    "    \n",
    "    for t in range(T_FIX):\n",
    "        x_t = X_MAT[t, :].reshape(-1, 1)\n",
    "        eps_t = np.vstack([shocks_as[t], shocks_ad[t], shocks_mp[t], shocks_fp[t]])\n",
    "        \n",
    "        Y_temp[t, P] = (B_p.T @ x_t + A0inv_full[P, :] @ eps_t).item()\n",
    "        Y_temp[t, Y] = (B_y.T @ x_t + A0inv_full[Y, :] @ eps_t).item()\n",
    "        Y_temp[t, I] = (B_i.T @ x_t + A0inv_full[I, :] @ eps_t).item()\n",
    "        Y_temp[t, B] = (B_b.T @ x_t + A0inv_full[B, :] @ eps_t).item()\n",
    "    \n",
    "    # Считаем контрфакт с момента фиксации\n",
    "    for t in range(T_FIX, T):\n",
    "        # Собираем лаги (размер (4,))\n",
    "        l1 = Y_temp[t-1, :].reshape(-1, 1)\n",
    "        l2 = Y_temp[t-2, :].reshape(-1, 1)\n",
    "\n",
    "        # Формируем x_sim как вектор [10 x 1]\n",
    "        x_sim = np.vstack([l1, l2, X_MAT[t, 8], X_MAT[t, 9]])\n",
    "        \n",
    "        # Вычисляем шоки\n",
    "        eps_as = shocks_as[t]\n",
    "        eps_ad = shocks_ad[t]\n",
    "        eps_fp = shocks_fp[t]\n",
    "        \n",
    "        # Вычисляем eps_mp\n",
    "        numerator = I_TARGET - (B_i.T @ x_sim + A0inv_full[I, [0, 1, 3]] @ np.vstack([eps_as, eps_ad, eps_fp]))\n",
    "        eps_mp = (numerator / A0inv_full[I, 2]).item()\n",
    "        \n",
    "        # Собираем вектор шоков [4 x 1]\n",
    "        eps_t = np.vstack([eps_as, eps_ad, eps_mp, eps_fp])\n",
    "        \n",
    "        # Обновляем Y_temp\n",
    "        Y_temp[t, P] = (B_p.T @ x_sim + A0inv_full[P, :] @ eps_t).item()\n",
    "        Y_temp[t, Y] = (B_y.T @ x_sim + A0inv_full[Y, :] @ eps_t).item()\n",
    "        Y_temp[t, I] = I_TARGET  # фиксируем ставку\n",
    "        Y_temp[t, B] = (B_b.T @ x_sim + A0inv_full[B, :] @ eps_t).item()\n",
    "        \n",
    "        # Обновляем шок MP\n",
    "        shocks_mp[t] = eps_mp.item() if isinstance(eps_mp, np.ndarray) else eps_mp\n",
    "    \n",
    "    # Сохраняем результат симуляции\n",
    "    CF[:, i, :] = Y_temp\n",
    "    CF_EPS_MP[i, :] = shocks_mp.ravel()\n",
    "\n",
    "# Анализируем\n",
    "cf_p = CF[:, :, P]\n",
    "\n",
    "p_median = np.nanmedian(cf_p, axis=1)\n",
    "p_low = np.nanpercentile(cf_p, 16, axis=1)\n",
    "p_high = np.nanpercentile(cf_p, 84, axis=1)\n",
    "\n",
    "go_plot(title='Инфляция, QoQ: фактическая vs контрфактическая (КС = 7,5% с 3 квартала 2023 г.)',\n",
    "        name='Контрфакт (КС = 7,5%)', file_name='I_КА_1_Фиксированная_ключевая_ставка',\n",
    "        quarters=QUARTERS, median=p_median, low=p_low, high=p_high, actual=ACTUAL_P)"
   ]
  },
  {
   "cell_type": "markdown",
   "id": "0b827771",
   "metadata": {},
   "source": [
    "## 2) Нулевые шоки ДКП"
   ]
  },
  {
   "cell_type": "code",
   "execution_count": null,
   "id": "c83d3def",
   "metadata": {},
   "outputs": [],
   "source": [
    "# Готовим объект чтобы потом мочь посмотреть новые шоки ДКП\n",
    "CF_ZERO_MP = np.zeros((T, N_ITER, N_VARS))\n",
    "\n",
    "for i in range(N_ITER):\n",
    "    # Распаковываем параметры каждой итерации\n",
    "    beta_i = BETA[:, i]\n",
    "    \n",
    "    # Восстанавливаем коэффициенты VAR\n",
    "    B_p = beta_i[0:10]\n",
    "    B_y = beta_i[10:20]\n",
    "    B_i = beta_i[20:30]\n",
    "    B_b = beta_i[30:40]\n",
    "    \n",
    "    # Структурная матрица A0^{-1} для каждой итерации\n",
    "    A0inv_full = np.vstack([A0INV_P[i, :], A0INV_Y[i, :], A0INV_I[i, :],  A0INV_B[i, :]])\n",
    "    \n",
    "    # Шоки\n",
    "    shocks_as = SHOCKS_AS[i, :].reshape(-1, 1)\n",
    "    shocks_ad = SHOCKS_PRIVATED_AD[i, :].reshape(-1, 1)\n",
    "    shocks_mp = SHOCKS_MP[i, :].reshape(-1, 1)\n",
    "    shocks_fp = SHOCKS_FP[i, :].reshape(-1, 1)\n",
    "    \n",
    "    # Восстанавливаем начальные значения переменных до t_fix\n",
    "    Y_temp = np.zeros((T, N_VARS))\n",
    "    \n",
    "    for t in range(T_FIX):\n",
    "        x_t = X_MAT[t, :].reshape(-1, 1)\n",
    "        eps_t = np.vstack([shocks_as[t], shocks_ad[t], shocks_mp[t], shocks_fp[t]])\n",
    "        \n",
    "        Y_temp[t, P] = (B_p.T @ x_t + A0inv_full[P, :] @ eps_t).item()\n",
    "        Y_temp[t, Y] = (B_y.T @ x_t + A0inv_full[Y, :] @ eps_t).item()\n",
    "        Y_temp[t, I] = (B_i.T @ x_t + A0inv_full[I, :] @ eps_t).item()\n",
    "        Y_temp[t, B] = (B_b.T @ x_t + A0inv_full[B, :] @ eps_t).item()\n",
    "    \n",
    "    # С 2023Q3 задаём MP-шок = 0\n",
    "    for t in range(T_FIX, T):\n",
    "        # Собираем лаги (размер (4,))\n",
    "        l1 = Y_temp[t-1, :].reshape(-1, 1)\n",
    "        l2 = Y_temp[t-2, :].reshape(-1, 1)\n",
    "\n",
    "        # Формируем x_sim как вектор [10 x 1]\n",
    "        x_sim = np.vstack([l1, l2, X_MAT[t, 8], X_MAT[t, 9]])\n",
    "        \n",
    "        # Вычисляем шоки\n",
    "        eps_as      = shocks_as[t]\n",
    "        eps_ad      = shocks_ad[t]\n",
    "        eps_mp_zero = 0  # фиксация\n",
    "        eps_fp      = shocks_fp[t]\n",
    "        \n",
    "        eps_zero = np.vstack([eps_as, eps_ad, eps_mp_zero, eps_fp])\n",
    "        \n",
    "        # Обновляем Y_temp\n",
    "        Y_temp[t, P] = (B_p.T @ x_sim + A0inv_full[P, :] @ eps_zero).item()\n",
    "        Y_temp[t, Y] = (B_y.T @ x_sim + A0inv_full[Y, :] @ eps_zero).item()\n",
    "        Y_temp[t, I] = (B_i.T @ x_sim + A0inv_full[I, :] @ eps_zero).item()\n",
    "        Y_temp[t, B] = (B_b.T @ x_sim + A0inv_full[B, :] @ eps_zero).item()\n",
    "    \n",
    "    # Сохраняем результат симуляции\n",
    "    CF_ZERO_MP[:, i, :] = Y_temp\n",
    "\n",
    "# Анализируем\n",
    "cf_zeroMP_i = CF_ZERO_MP[:, :, I]\n",
    "cf_zeroMP_p = CF_ZERO_MP[:, :, P]\n",
    "\n",
    "p_median_zero = np.nanmedian(cf_zeroMP_p, axis=1)\n",
    "p_low_zero = np.nanpercentile(cf_zeroMP_p, 16, axis=1)\n",
    "p_high_zero = np.nanpercentile(cf_zeroMP_p, 84, axis=1)\n",
    "\n",
    "# Строим графики. Инфляция\n",
    "go_plot(title='Инфляция, QoQ: фактическая vs контрфактическая (шок ДКП = 0 с 3 квартала 2023 г.)',\n",
    "        name='Контрфакт (шок ДКП = 0)', file_name='I_КА_2_Нулевые_шоки_ДКП_Инфляция',\n",
    "        quarters=QUARTERS, median=p_median_zero, low=p_low_zero, high=p_high_zero, actual=ACTUAL_P)\n",
    "\n",
    "\n",
    "i_median_zero = np.nanmedian(cf_zeroMP_i, axis=1)\n",
    "i_low_zero = np.nanpercentile(cf_zeroMP_i, 16, axis=1)\n",
    "i_high_zero = np.nanpercentile(cf_zeroMP_i, 84, axis=1)\n",
    "\n",
    "# Строим графики. Ставка\n",
    "go_plot(title='Среднеквартальная ключевая ставка: фактическая vs контрфактическая (шок ДКП = 0 с 3 квартала 2023 г.)',\n",
    "        name='Контрфакт (шок ДКП = 0)', file_name='I_КА_2_Нулевые_шоки_ДКП_Ставка',\n",
    "        quarters=QUARTERS, median=i_median_zero, low=i_low_zero, high=i_high_zero, actual=ACTUAL_I,\n",
    "        yaxis_title=\"Ключевая ставка (%)\")"
   ]
  },
  {
   "cell_type": "markdown",
   "id": "de85582b",
   "metadata": {},
   "source": [
    "# II. УСЛОВНЫЙ ПРОГНОЗ"
   ]
  },
  {
   "cell_type": "markdown",
   "id": "1ee4dd28",
   "metadata": {},
   "source": [
    "## 1) Условный прогноз: ставка = 21 с 2025Q1, все шоки = 0, кроме MP"
   ]
  },
  {
   "cell_type": "code",
   "execution_count": 27,
   "id": "9e3c032b",
   "metadata": {},
   "outputs": [
    {
     "name": "stderr",
     "output_type": "stream",
     "text": [
      "C:\\Users\\sdani\\AppData\\Local\\Temp\\ipykernel_24360\\4235531750.py:38: DeprecationWarning:\n",
      "\n",
      "Conversion of an array with ndim > 0 to a scalar is deprecated, and will error in future. Ensure you extract a single element from your array before performing this operation. (Deprecated NumPy 1.25.)\n",
      "\n"
     ]
    },
    {
     "data": {
      "application/vnd.plotly.v1+json": {
       "config": {
        "plotlyServerURL": "https://plot.ly"
       },
       "data": [
        {
         "line": {
          "color": "blue",
          "width": 3
         },
         "mode": "lines",
         "name": "Контрфакт (шок ДКП = 0)",
         "type": "scatter",
         "x": [
          "2023-07-01T08:43:00.480000",
          "2023-09-30T16:10:16.320000",
          "2023-12-30T23:37:32.160000",
          "2024-03-31T07:04:48",
          "2024-06-30T14:32:03.840000",
          "2024-09-29T21:59:19.680000"
         ],
         "y": {
          "bdata": "Ehkuq+bQF8BnIZGJrU0RwJBzJikoigjA+1oi1eZwAcAMV9EexHn6v25912c2aPS/",
          "dtype": "f8"
         }
        },
        {
         "line": {
          "color": "blue",
          "dash": "dash",
          "width": 1
         },
         "mode": "lines",
         "name": "68% ДИ: нижняя",
         "type": "scatter",
         "x": [
          "2023-07-01T08:43:00.480000",
          "2023-09-30T16:10:16.320000",
          "2023-12-30T23:37:32.160000",
          "2024-03-31T07:04:48",
          "2024-06-30T14:32:03.840000",
          "2024-09-29T21:59:19.680000"
         ],
         "y": {
          "bdata": "39M/KKLyMMBA9vFQzz0qwLh47xS6vCPAHczsShDMIMBW4cMKHgocwJpItWrP5hjA",
          "dtype": "f8"
         }
        },
        {
         "line": {
          "color": "blue",
          "dash": "dash",
          "width": 1
         },
         "mode": "lines",
         "name": "68% ДИ: верхняя",
         "type": "scatter",
         "x": [
          "2023-07-01T08:43:00.480000",
          "2023-09-30T16:10:16.320000",
          "2023-12-30T23:37:32.160000",
          "2024-03-31T07:04:48",
          "2024-06-30T14:32:03.840000",
          "2024-09-29T21:59:19.680000"
         ],
         "y": {
          "bdata": "8l9U6c+x9r+ixuTdkzfov3RyUaI4Db2/ZZqYwzu11D+1pRTLhZ3jPwAd0Ik19es/",
          "dtype": "f8"
         }
        },
        {
         "line": {
          "color": "black",
          "width": 3
         },
         "mode": "lines",
         "name": "Фактическая",
         "type": "scatter",
         "x": [
          "2005-07-01T00:00:00",
          "2005-09-30T07:27:15.840000",
          "2005-12-30T14:54:31.680000",
          "2006-03-31T22:21:47.520000",
          "2006-07-01T05:49:03.360000",
          "2006-09-30T13:16:19.200000",
          "2006-12-30T20:43:35.040000",
          "2007-04-01T04:10:50.880000",
          "2007-07-01T11:38:06.720000",
          "2007-09-30T19:05:22.560000",
          "2007-12-31T02:32:38.400000",
          "2008-03-31T09:59:54.240000",
          "2008-06-30T17:27:10.080000",
          "2008-09-30T00:54:25.920000",
          "2008-12-30T08:21:41.760000",
          "2009-03-31T15:48:57.600000",
          "2009-06-30T23:16:13.440000",
          "2009-09-30T06:43:29.280000",
          "2009-12-30T14:10:45.120000",
          "2010-03-31T21:38:00.960000",
          "2010-07-01T05:05:16.800000",
          "2010-09-30T12:32:32.640000",
          "2010-12-30T19:59:48.480000",
          "2011-04-01T03:27:04.320000",
          "2011-07-01T10:54:20.160000",
          "2011-09-30T18:21:36",
          "2011-12-31T01:48:51.840000",
          "2012-03-31T09:16:07.680000",
          "2012-06-30T16:43:23.520000",
          "2012-09-30T00:10:39.360000",
          "2012-12-30T07:37:55.200000",
          "2013-03-31T15:05:11.040000",
          "2013-06-30T22:32:26.880000",
          "2013-09-30T05:59:42.720000",
          "2013-12-30T13:26:58.560000",
          "2014-03-31T20:54:14.400000",
          "2014-07-01T04:21:30.240000",
          "2014-09-30T11:48:46.080000",
          "2014-12-30T19:16:01.920000",
          "2015-04-01T02:43:17.760000",
          "2015-07-01T10:10:33.600000",
          "2015-09-30T17:37:49.440000",
          "2015-12-31T01:05:05.280000",
          "2016-03-31T08:32:21.120000",
          "2016-06-30T15:59:36.960000",
          "2016-09-29T23:26:52.800000",
          "2016-12-30T06:54:08.640000",
          "2017-03-31T14:21:24.480000",
          "2017-06-30T21:48:40.320000",
          "2017-09-30T05:15:56.160000",
          "2017-12-30T12:43:12",
          "2018-03-31T20:10:27.840000",
          "2018-07-01T03:37:43.680000",
          "2018-09-30T11:04:59.520000",
          "2018-12-30T18:32:15.360000",
          "2019-04-01T01:59:31.200000",
          "2019-07-01T09:26:47.040000",
          "2019-09-30T16:54:02.880000",
          "2019-12-31T00:21:18.720000",
          "2020-03-31T07:48:34.560000",
          "2020-06-30T15:15:50.400000",
          "2020-09-29T22:43:06.240000",
          "2020-12-30T06:10:22.080000",
          "2021-03-31T13:37:37.920000",
          "2021-06-30T21:04:53.760000",
          "2021-09-30T04:32:09.600000",
          "2021-12-30T11:59:25.440000",
          "2022-03-31T19:26:41.280000",
          "2022-07-01T02:53:57.120000",
          "2022-09-30T10:21:12.960000",
          "2022-12-30T17:48:28.800000",
          "2023-04-01T01:15:44.640000",
          "2023-07-01T08:43:00.480000",
          "2023-09-30T16:10:16.320000",
          "2023-12-30T23:37:32.160000",
          "2024-03-31T07:04:48",
          "2024-06-30T14:32:03.840000",
          "2024-09-29T21:59:19.680000"
         ],
         "y": [
          13,
          12.966666666666667,
          12,
          11.966666666666667,
          11.5,
          11.133333333333333,
          10.658333333333333,
          10.450000000000001,
          10,
          10,
          10.166666666666666,
          10.487499999999999,
          10.958333333333334,
          11.833333333333334,
          13,
          12.233333333333334,
          10.891666666666666,
          9.466666666666667,
          8.641666666666666,
          7.991666666666667,
          7.75,
          7.75,
          7.841666666666666,
          8.166666666666666,
          8.25,
          8.241666666666667,
          8,
          8,
          8.041666666666666,
          8.25,
          8.25,
          8.25,
          7.333333333333333,
          5.5,
          6,
          7.356060606060606,
          7.862318840579711,
          10.280303030303031,
          15.476190476190476,
          12.825396825396824,
          11.166666666666666,
          11,
          11,
          10.896825396825397,
          10.424242424242424,
          10,
          9.981060606060607,
          9.376984126984127,
          8.920634920634921,
          8.246392496392497,
          7.593201754385965,
          7.25,
          7.291666666666667,
          7.5436507936507935,
          7.75,
          7.706140350877193,
          7.258971704623878,
          6.594030365769496,
          6.105263157894737,
          5.536363636363636,
          4.3143939393939394,
          4.25,
          4.28030303030303,
          4.962121212121212,
          6.295454545454546,
          7.445887445887446,
          12.5,
          13.80952380952381,
          8.305194805194805,
          7.5,
          7.5,
          7.5,
          10.24672187715666,
          14.55266955266955,
          16,
          16,
          17.59489302967564,
          20.44927536231884
         ]
        }
       ],
       "layout": {
        "legend": {
         "bordercolor": "black",
         "borderwidth": 1
        },
        "paper_bgcolor": "white",
        "plot_bgcolor": "white",
        "shapes": [
         {
          "line": {
           "color": "black",
           "width": 1
          },
          "type": "rect",
          "x0": 0,
          "x1": 1,
          "xref": "paper",
          "y0": 0,
          "y1": 1,
          "yref": "paper"
         }
        ],
        "showlegend": true,
        "template": {
         "data": {
          "bar": [
           {
            "error_x": {
             "color": "#2a3f5f"
            },
            "error_y": {
             "color": "#2a3f5f"
            },
            "marker": {
             "line": {
              "color": "#E5ECF6",
              "width": 0.5
             },
             "pattern": {
              "fillmode": "overlay",
              "size": 10,
              "solidity": 0.2
             }
            },
            "type": "bar"
           }
          ],
          "barpolar": [
           {
            "marker": {
             "line": {
              "color": "#E5ECF6",
              "width": 0.5
             },
             "pattern": {
              "fillmode": "overlay",
              "size": 10,
              "solidity": 0.2
             }
            },
            "type": "barpolar"
           }
          ],
          "carpet": [
           {
            "aaxis": {
             "endlinecolor": "#2a3f5f",
             "gridcolor": "white",
             "linecolor": "white",
             "minorgridcolor": "white",
             "startlinecolor": "#2a3f5f"
            },
            "baxis": {
             "endlinecolor": "#2a3f5f",
             "gridcolor": "white",
             "linecolor": "white",
             "minorgridcolor": "white",
             "startlinecolor": "#2a3f5f"
            },
            "type": "carpet"
           }
          ],
          "choropleth": [
           {
            "colorbar": {
             "outlinewidth": 0,
             "ticks": ""
            },
            "type": "choropleth"
           }
          ],
          "contour": [
           {
            "colorbar": {
             "outlinewidth": 0,
             "ticks": ""
            },
            "colorscale": [
             [
              0,
              "#0d0887"
             ],
             [
              0.1111111111111111,
              "#46039f"
             ],
             [
              0.2222222222222222,
              "#7201a8"
             ],
             [
              0.3333333333333333,
              "#9c179e"
             ],
             [
              0.4444444444444444,
              "#bd3786"
             ],
             [
              0.5555555555555556,
              "#d8576b"
             ],
             [
              0.6666666666666666,
              "#ed7953"
             ],
             [
              0.7777777777777778,
              "#fb9f3a"
             ],
             [
              0.8888888888888888,
              "#fdca26"
             ],
             [
              1,
              "#f0f921"
             ]
            ],
            "type": "contour"
           }
          ],
          "contourcarpet": [
           {
            "colorbar": {
             "outlinewidth": 0,
             "ticks": ""
            },
            "type": "contourcarpet"
           }
          ],
          "heatmap": [
           {
            "colorbar": {
             "outlinewidth": 0,
             "ticks": ""
            },
            "colorscale": [
             [
              0,
              "#0d0887"
             ],
             [
              0.1111111111111111,
              "#46039f"
             ],
             [
              0.2222222222222222,
              "#7201a8"
             ],
             [
              0.3333333333333333,
              "#9c179e"
             ],
             [
              0.4444444444444444,
              "#bd3786"
             ],
             [
              0.5555555555555556,
              "#d8576b"
             ],
             [
              0.6666666666666666,
              "#ed7953"
             ],
             [
              0.7777777777777778,
              "#fb9f3a"
             ],
             [
              0.8888888888888888,
              "#fdca26"
             ],
             [
              1,
              "#f0f921"
             ]
            ],
            "type": "heatmap"
           }
          ],
          "histogram": [
           {
            "marker": {
             "pattern": {
              "fillmode": "overlay",
              "size": 10,
              "solidity": 0.2
             }
            },
            "type": "histogram"
           }
          ],
          "histogram2d": [
           {
            "colorbar": {
             "outlinewidth": 0,
             "ticks": ""
            },
            "colorscale": [
             [
              0,
              "#0d0887"
             ],
             [
              0.1111111111111111,
              "#46039f"
             ],
             [
              0.2222222222222222,
              "#7201a8"
             ],
             [
              0.3333333333333333,
              "#9c179e"
             ],
             [
              0.4444444444444444,
              "#bd3786"
             ],
             [
              0.5555555555555556,
              "#d8576b"
             ],
             [
              0.6666666666666666,
              "#ed7953"
             ],
             [
              0.7777777777777778,
              "#fb9f3a"
             ],
             [
              0.8888888888888888,
              "#fdca26"
             ],
             [
              1,
              "#f0f921"
             ]
            ],
            "type": "histogram2d"
           }
          ],
          "histogram2dcontour": [
           {
            "colorbar": {
             "outlinewidth": 0,
             "ticks": ""
            },
            "colorscale": [
             [
              0,
              "#0d0887"
             ],
             [
              0.1111111111111111,
              "#46039f"
             ],
             [
              0.2222222222222222,
              "#7201a8"
             ],
             [
              0.3333333333333333,
              "#9c179e"
             ],
             [
              0.4444444444444444,
              "#bd3786"
             ],
             [
              0.5555555555555556,
              "#d8576b"
             ],
             [
              0.6666666666666666,
              "#ed7953"
             ],
             [
              0.7777777777777778,
              "#fb9f3a"
             ],
             [
              0.8888888888888888,
              "#fdca26"
             ],
             [
              1,
              "#f0f921"
             ]
            ],
            "type": "histogram2dcontour"
           }
          ],
          "mesh3d": [
           {
            "colorbar": {
             "outlinewidth": 0,
             "ticks": ""
            },
            "type": "mesh3d"
           }
          ],
          "parcoords": [
           {
            "line": {
             "colorbar": {
              "outlinewidth": 0,
              "ticks": ""
             }
            },
            "type": "parcoords"
           }
          ],
          "pie": [
           {
            "automargin": true,
            "type": "pie"
           }
          ],
          "scatter": [
           {
            "fillpattern": {
             "fillmode": "overlay",
             "size": 10,
             "solidity": 0.2
            },
            "type": "scatter"
           }
          ],
          "scatter3d": [
           {
            "line": {
             "colorbar": {
              "outlinewidth": 0,
              "ticks": ""
             }
            },
            "marker": {
             "colorbar": {
              "outlinewidth": 0,
              "ticks": ""
             }
            },
            "type": "scatter3d"
           }
          ],
          "scattercarpet": [
           {
            "marker": {
             "colorbar": {
              "outlinewidth": 0,
              "ticks": ""
             }
            },
            "type": "scattercarpet"
           }
          ],
          "scattergeo": [
           {
            "marker": {
             "colorbar": {
              "outlinewidth": 0,
              "ticks": ""
             }
            },
            "type": "scattergeo"
           }
          ],
          "scattergl": [
           {
            "marker": {
             "colorbar": {
              "outlinewidth": 0,
              "ticks": ""
             }
            },
            "type": "scattergl"
           }
          ],
          "scattermap": [
           {
            "marker": {
             "colorbar": {
              "outlinewidth": 0,
              "ticks": ""
             }
            },
            "type": "scattermap"
           }
          ],
          "scattermapbox": [
           {
            "marker": {
             "colorbar": {
              "outlinewidth": 0,
              "ticks": ""
             }
            },
            "type": "scattermapbox"
           }
          ],
          "scatterpolar": [
           {
            "marker": {
             "colorbar": {
              "outlinewidth": 0,
              "ticks": ""
             }
            },
            "type": "scatterpolar"
           }
          ],
          "scatterpolargl": [
           {
            "marker": {
             "colorbar": {
              "outlinewidth": 0,
              "ticks": ""
             }
            },
            "type": "scatterpolargl"
           }
          ],
          "scatterternary": [
           {
            "marker": {
             "colorbar": {
              "outlinewidth": 0,
              "ticks": ""
             }
            },
            "type": "scatterternary"
           }
          ],
          "surface": [
           {
            "colorbar": {
             "outlinewidth": 0,
             "ticks": ""
            },
            "colorscale": [
             [
              0,
              "#0d0887"
             ],
             [
              0.1111111111111111,
              "#46039f"
             ],
             [
              0.2222222222222222,
              "#7201a8"
             ],
             [
              0.3333333333333333,
              "#9c179e"
             ],
             [
              0.4444444444444444,
              "#bd3786"
             ],
             [
              0.5555555555555556,
              "#d8576b"
             ],
             [
              0.6666666666666666,
              "#ed7953"
             ],
             [
              0.7777777777777778,
              "#fb9f3a"
             ],
             [
              0.8888888888888888,
              "#fdca26"
             ],
             [
              1,
              "#f0f921"
             ]
            ],
            "type": "surface"
           }
          ],
          "table": [
           {
            "cells": {
             "fill": {
              "color": "#EBF0F8"
             },
             "line": {
              "color": "white"
             }
            },
            "header": {
             "fill": {
              "color": "#C8D4E3"
             },
             "line": {
              "color": "white"
             }
            },
            "type": "table"
           }
          ]
         },
         "layout": {
          "annotationdefaults": {
           "arrowcolor": "#2a3f5f",
           "arrowhead": 0,
           "arrowwidth": 1
          },
          "autotypenumbers": "strict",
          "coloraxis": {
           "colorbar": {
            "outlinewidth": 0,
            "ticks": ""
           }
          },
          "colorscale": {
           "diverging": [
            [
             0,
             "#8e0152"
            ],
            [
             0.1,
             "#c51b7d"
            ],
            [
             0.2,
             "#de77ae"
            ],
            [
             0.3,
             "#f1b6da"
            ],
            [
             0.4,
             "#fde0ef"
            ],
            [
             0.5,
             "#f7f7f7"
            ],
            [
             0.6,
             "#e6f5d0"
            ],
            [
             0.7,
             "#b8e186"
            ],
            [
             0.8,
             "#7fbc41"
            ],
            [
             0.9,
             "#4d9221"
            ],
            [
             1,
             "#276419"
            ]
           ],
           "sequential": [
            [
             0,
             "#0d0887"
            ],
            [
             0.1111111111111111,
             "#46039f"
            ],
            [
             0.2222222222222222,
             "#7201a8"
            ],
            [
             0.3333333333333333,
             "#9c179e"
            ],
            [
             0.4444444444444444,
             "#bd3786"
            ],
            [
             0.5555555555555556,
             "#d8576b"
            ],
            [
             0.6666666666666666,
             "#ed7953"
            ],
            [
             0.7777777777777778,
             "#fb9f3a"
            ],
            [
             0.8888888888888888,
             "#fdca26"
            ],
            [
             1,
             "#f0f921"
            ]
           ],
           "sequentialminus": [
            [
             0,
             "#0d0887"
            ],
            [
             0.1111111111111111,
             "#46039f"
            ],
            [
             0.2222222222222222,
             "#7201a8"
            ],
            [
             0.3333333333333333,
             "#9c179e"
            ],
            [
             0.4444444444444444,
             "#bd3786"
            ],
            [
             0.5555555555555556,
             "#d8576b"
            ],
            [
             0.6666666666666666,
             "#ed7953"
            ],
            [
             0.7777777777777778,
             "#fb9f3a"
            ],
            [
             0.8888888888888888,
             "#fdca26"
            ],
            [
             1,
             "#f0f921"
            ]
           ]
          },
          "colorway": [
           "#636efa",
           "#EF553B",
           "#00cc96",
           "#ab63fa",
           "#FFA15A",
           "#19d3f3",
           "#FF6692",
           "#B6E880",
           "#FF97FF",
           "#FECB52"
          ],
          "font": {
           "color": "#2a3f5f"
          },
          "geo": {
           "bgcolor": "white",
           "lakecolor": "white",
           "landcolor": "#E5ECF6",
           "showlakes": true,
           "showland": true,
           "subunitcolor": "white"
          },
          "hoverlabel": {
           "align": "left"
          },
          "hovermode": "closest",
          "mapbox": {
           "style": "light"
          },
          "paper_bgcolor": "white",
          "plot_bgcolor": "#E5ECF6",
          "polar": {
           "angularaxis": {
            "gridcolor": "white",
            "linecolor": "white",
            "ticks": ""
           },
           "bgcolor": "#E5ECF6",
           "radialaxis": {
            "gridcolor": "white",
            "linecolor": "white",
            "ticks": ""
           }
          },
          "scene": {
           "xaxis": {
            "backgroundcolor": "#E5ECF6",
            "gridcolor": "white",
            "gridwidth": 2,
            "linecolor": "white",
            "showbackground": true,
            "ticks": "",
            "zerolinecolor": "white"
           },
           "yaxis": {
            "backgroundcolor": "#E5ECF6",
            "gridcolor": "white",
            "gridwidth": 2,
            "linecolor": "white",
            "showbackground": true,
            "ticks": "",
            "zerolinecolor": "white"
           },
           "zaxis": {
            "backgroundcolor": "#E5ECF6",
            "gridcolor": "white",
            "gridwidth": 2,
            "linecolor": "white",
            "showbackground": true,
            "ticks": "",
            "zerolinecolor": "white"
           }
          },
          "shapedefaults": {
           "line": {
            "color": "#2a3f5f"
           }
          },
          "ternary": {
           "aaxis": {
            "gridcolor": "white",
            "linecolor": "white",
            "ticks": ""
           },
           "baxis": {
            "gridcolor": "white",
            "linecolor": "white",
            "ticks": ""
           },
           "bgcolor": "#E5ECF6",
           "caxis": {
            "gridcolor": "white",
            "linecolor": "white",
            "ticks": ""
           }
          },
          "title": {
           "x": 0.05
          },
          "xaxis": {
           "automargin": true,
           "gridcolor": "white",
           "linecolor": "white",
           "ticks": "",
           "title": {
            "standoff": 15
           },
           "zerolinecolor": "white",
           "zerolinewidth": 2
          },
          "yaxis": {
           "automargin": true,
           "gridcolor": "white",
           "linecolor": "white",
           "ticks": "",
           "title": {
            "standoff": 15
           },
           "zerolinecolor": "white",
           "zerolinewidth": 2
          }
         }
        },
        "title": {
         "text": "Инфляция: факт + прогноз (ставка = 21)"
        },
        "xaxis": {
         "gridcolor": "LightGrey",
         "gridwidth": 1,
         "showgrid": true,
         "title": {
          "text": "Квартал"
         }
        },
        "yaxis": {
         "gridcolor": "LightGrey",
         "gridwidth": 1,
         "showgrid": true,
         "title": {
          "text": "Инфляция (%)"
         }
        }
       }
      }
     },
     "metadata": {},
     "output_type": "display_data"
    }
   ],
   "source": [
    "# CF_FORECAST: [86 x 1000 x 4] — основная матрица прогноза\n",
    "CF_FORECAST = np.zeros((T_FORECAST, N_ITER, N_VARS))\n",
    "CF_EPS_MP_FORECAST = np.zeros((N_ITER, T_FORECAST))\n",
    "\n",
    "# Расширим матрицу Xmat экзогенными переменными на прогнозный перио: [86 x 10]\n",
    "X_MAT_FORECAST = np.zeros((T_FORECAST, N_REG))\n",
    "\n",
    "X_MAT_FORECAST[:T, :] = X_MAT[:T, :]\n",
    "\n",
    "for i in range(N_ITER):\n",
    "    beta_i = BETA[:, i]\n",
    "    \n",
    "    B_p = beta_i[0:10]\n",
    "    B_y = beta_i[10:20]\n",
    "    B_i = beta_i[20:30]\n",
    "    B_b = beta_i[30:40]\n",
    "    \n",
    "    A0inv_full = np.vstack([A0INV_P[i, :], A0INV_Y[i, :], A0INV_I[i, :],  A0INV_B[i, :]])\n",
    "    \n",
    "    shocks_as = SHOCKS_AS[i, :].reshape(-1, 1)\n",
    "    shocks_ad = SHOCKS_PRIVATED_AD[i, :].reshape(-1, 1)\n",
    "    shocks_mp = SHOCKS_MP[i, :].reshape(-1, 1)\n",
    "    shocks_fp = SHOCKS_FP[i, :].reshape(-1, 1)\n",
    "    \n",
    "    # 1. Историческая часть (t = 1:78)\n",
    "    Y_temp = np.zeros((T_FORECAST, N_VARS))\n",
    "\n",
    "    for t in range(T):\n",
    "        x_t = X_MAT[t, :].reshape(-1, 1)\n",
    "\n",
    "        eps_t = np.vstack([shocks_as[t], shocks_ad[t], shocks_mp[t], shocks_fp[t]])\n",
    "\n",
    "        Y_temp[t, P] = (B_p.T @ x_t + A0inv_full[P, :] @ eps_t).item()\n",
    "        Y_temp[t, Y] = (B_y.T @ x_t + A0inv_full[Y, :] @ eps_t).item()\n",
    "        Y_temp[t, I] = (B_i.T @ x_t + A0inv_full[I, :] @ eps_t).item()\n",
    "        Y_temp[t, B] = (B_b.T @ x_t + A0inv_full[B, :] @ eps_t).item()\n",
    "\n",
    "        CF_EPS_MP_FORECAST[i, t] = shocks_mp[t]\n",
    "    \n",
    "    # 2. Прогнозная часть (t = 79:86)\n",
    "    for t in range(T + 1, T_FORECAST):\n",
    "        # Лаги: исторические или из прогноза\n",
    "        lag1 = Y_temp[t-1, :].reshape(-1, 1)\n",
    "        lag2 = Y_temp[t-2, :].reshape(-1, 1)\n",
    "\n",
    "        # Формируем строку регрессоров\n",
    "        X_MAT_FORECAST[t, :4]  = lag1.flatten()  # первые 4 элемента - lag1\n",
    "        X_MAT_FORECAST[t, 4:8] = lag2.flatten() # следующие 4 элемента - lag2\n",
    "        X_MAT_FORECAST[t, 8]   = 1  # константа\n",
    "        X_MAT_FORECAST[t, 9]   = POIL_FORECAST[t - T]  # нефть из прогноза\n",
    "\n",
    "        x_t = X_MAT_FORECAST[t, :].reshape(-1, 1)\n",
    "\n",
    "        # Вычисляем MP-шок, который даёт ставку = 21\n",
    "        eps_mp = (I_TARGET_CONDITIONAL - B_i.T @ x_t) / A0inv_full[I, 2]\n",
    "        eps_t = np.vstack([0, 0, eps_mp, 0])  # Все шоки, кроме MP, равны 0\n",
    "\n",
    "        # Пересчитываем переменные\n",
    "        Y_temp[t, P] = (B_p.T @ x_t + A0inv_full[P, :] @ eps_t).item()\n",
    "        Y_temp[t, Y] = (B_y.T @ x_t + A0inv_full[Y, :] @ eps_t).item()\n",
    "        Y_temp[t, I] = I_TARGET_CONDITIONAL\n",
    "        Y_temp[t, B] = (B_b.T @ x_t + A0inv_full[B, :] @ eps_t).item()\n",
    "\n",
    "        CF_EPS_MP_FORECAST[i, t] = eps_mp.item() if isinstance(eps_mp, np.ndarray) else eps_mp\n",
    "\n",
    "    CF_FORECAST[:, i, :] = Y_temp\n",
    "\n",
    "# Анализируем\n",
    "cf_forecast_p = CF_FORECAST[:, :, P]\n",
    "\n",
    "# Считаем статистику по всем периодам\n",
    "p_median_full = np.nanmedian(cf_forecast_p, axis=1)  # [86 x 1]\n",
    "p_low_full    = np.nanpercentile(cf_forecast_p, 16, axis=1)\n",
    "p_high_full   = np.nanpercentile(cf_forecast_p, 84, axis=1)\n",
    "\n",
    "quarters_full = [START_DATE + timedelta(days=91.3106 * i) for i in range(T)]\n",
    "\n",
    "go_plot(title='Инфляция: факт + прогноз (ставка = 21)',\n",
    "        name='Контрфакт (шок ДКП = 0)', file_name='II_УП_1_Инфляция',\n",
    "        quarters=quarters_full, median=p_median_full, low=p_low_full, high=p_high_full, actual=ACTUAL_I,\n",
    "        yaxis_title=\"Инфляция (%)\")"
   ]
  },
  {
   "cell_type": "code",
   "execution_count": null,
   "id": "981353b2",
   "metadata": {},
   "outputs": [],
   "source": []
  }
 ],
 "metadata": {
  "kernelspec": {
   "display_name": "venv",
   "language": "python",
   "name": "python3"
  },
  "language_info": {
   "codemirror_mode": {
    "name": "ipython",
    "version": 3
   },
   "file_extension": ".py",
   "mimetype": "text/x-python",
   "name": "python",
   "nbconvert_exporter": "python",
   "pygments_lexer": "ipython3",
   "version": "3.9.13"
  }
 },
 "nbformat": 4,
 "nbformat_minor": 5
}
