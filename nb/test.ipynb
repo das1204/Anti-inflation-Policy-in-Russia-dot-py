{
 "cells": [
  {
   "cell_type": "code",
   "execution_count": null,
   "id": "5ddcd3be",
   "metadata": {},
   "outputs": [],
   "source": [
    "import numpy as np\n",
    "import pandas as pd\n",
    "import plotly.graph_objects as go\n",
    "from datetime import datetime, timedelta\n",
    "\n",
    "DATA_PATH = \"../data/\"\n",
    "SAVE_PATH = \"../charts/\"\n",
    "\n",
    "START_DATE = datetime(2005, 7, 1)"
   ]
  },
  {
   "cell_type": "code",
   "execution_count": null,
   "id": "cfd9b29c",
   "metadata": {},
   "outputs": [],
   "source": [
    "# Загружаем данные\n",
    "\n",
    "beta = pd.read_excel(DATA_PATH + \"beta_gibbs.xlsx\", header=None).values\n",
    "Xmat = pd.read_excel(DATA_PATH + \"X.xlsx\", header=None).values\n",
    "shocks_AS = pd.read_excel(DATA_PATH + \"ETA_record AS.xlsx\", header=None).values\n",
    "shocks_PrivateAD = pd.read_excel(DATA_PATH + \"ETA_record PrivateAD.xlsx\", header=None).values\n",
    "shocks_MP = pd.read_excel(DATA_PATH + \"ETA_record MP.xlsx\", header=None).values\n",
    "shocks_FP = pd.read_excel(DATA_PATH + \"ETA_record FP.xlsx\", header=None).values\n",
    "A0inv_p = pd.read_excel(DATA_PATH + \"struct_irf_record for p.xlsx\", header=None).values\n",
    "A0inv_y = pd.read_excel(DATA_PATH + \"struct_irf_record for Y.xlsx\", header=None).values\n",
    "A0inv_i = pd.read_excel(DATA_PATH + \"struct_irf_record for i.xlsx\", header=None).values\n",
    "A0inv_b = pd.read_excel(DATA_PATH + \"struct_irf_record for B.xlsx\", header=None).values\n",
    "\n",
    "actual_p = pd.read_excel(DATA_PATH + 'actual_p.xlsx', header=None).values"
   ]
  },
  {
   "cell_type": "code",
   "execution_count": null,
   "id": "82666cfe",
   "metadata": {},
   "outputs": [
    {
     "data": {
      "application/vnd.plotly.v1+json": {
       "config": {
        "plotlyServerURL": "https://plot.ly"
       },
       "data": [
        {
         "line": {
          "color": "blue",
          "width": 2
         },
         "mode": "lines",
         "name": "Контрфакт (КС = 7,5%)",
         "type": "scatter",
         "x": [
          "2005-07-01T00:00:00",
          "2005-09-30T06:00:00",
          "2005-12-30T12:00:00",
          "2006-03-31T18:00:00",
          "2006-07-01T00:00:00",
          "2006-09-30T06:00:00",
          "2006-12-30T12:00:00",
          "2007-03-31T18:00:00",
          "2007-07-01T00:00:00",
          "2007-09-30T06:00:00",
          "2007-12-30T12:00:00",
          "2008-03-30T18:00:00",
          "2008-06-30T00:00:00",
          "2008-09-29T06:00:00",
          "2008-12-29T12:00:00",
          "2009-03-30T18:00:00",
          "2009-06-30T00:00:00",
          "2009-09-29T06:00:00",
          "2009-12-29T12:00:00",
          "2010-03-30T18:00:00",
          "2010-06-30T00:00:00",
          "2010-09-29T06:00:00",
          "2010-12-29T12:00:00",
          "2011-03-30T18:00:00",
          "2011-06-30T00:00:00",
          "2011-09-29T06:00:00",
          "2011-12-29T12:00:00",
          "2012-03-29T18:00:00",
          "2012-06-29T00:00:00",
          "2012-09-28T06:00:00",
          "2012-12-28T12:00:00",
          "2013-03-29T18:00:00",
          "2013-06-29T00:00:00",
          "2013-09-28T06:00:00",
          "2013-12-28T12:00:00",
          "2014-03-29T18:00:00",
          "2014-06-29T00:00:00",
          "2014-09-28T06:00:00",
          "2014-12-28T12:00:00",
          "2015-03-29T18:00:00",
          "2015-06-29T00:00:00",
          "2015-09-28T06:00:00",
          "2015-12-28T12:00:00",
          "2016-03-28T18:00:00",
          "2016-06-28T00:00:00",
          "2016-09-27T06:00:00",
          "2016-12-27T12:00:00",
          "2017-03-28T18:00:00",
          "2017-06-28T00:00:00",
          "2017-09-27T06:00:00",
          "2017-12-27T12:00:00",
          "2018-03-28T18:00:00",
          "2018-06-28T00:00:00",
          "2018-09-27T06:00:00",
          "2018-12-27T12:00:00",
          "2019-03-28T18:00:00",
          "2019-06-28T00:00:00",
          "2019-09-27T06:00:00",
          "2019-12-27T12:00:00",
          "2020-03-27T18:00:00",
          "2020-06-27T00:00:00",
          "2020-09-26T06:00:00",
          "2020-12-26T12:00:00",
          "2021-03-27T18:00:00",
          "2021-06-27T00:00:00",
          "2021-09-26T06:00:00",
          "2021-12-26T12:00:00",
          "2022-03-27T18:00:00",
          "2022-06-27T00:00:00",
          "2022-09-26T06:00:00",
          "2022-12-26T12:00:00",
          "2023-03-27T18:00:00",
          "2023-06-27T00:00:00",
          "2023-09-26T06:00:00",
          "2023-12-26T12:00:00",
          "2024-03-26T18:00:00",
          "2024-06-26T00:00:00",
          "2024-09-25T06:00:00"
         ],
         "y": {
          "bdata": "dSleifVyAUBL+J0GA9YAQAsTDFBRDwhArgZRh/wW/j9dnrtp7ioBQIXN4GlyZvs/olSWX6WT/T9o81UgysgAQHhpSRevwAdAoNVFyLwKEEAKnkPXmCQKQNMS7qwcFA9AQvZkYeAmCEDn3lbIrLAHQHzmqI/bngpARBPrvKuMBUDFXwvNpAwAQC3O4PWL6uo/Sd3k9XIQ+T97xuYNx9H3P4dCrvlMNQFA4uMb6+HjBECDZmng7SQIQEBLxy+6Sfg/4LXhMD1Q5z+GI+CavwzzP4JtLLYlHuA/gz/CvEdd9z+UH1Wl9B8GQHuc8jN4a/k/BsAVXzKd8z+4AlJ9sqz3P/ofYpNeSv8/35kvg8SO+D93Fln7Fv/0P0oxIlqcyQRAEdb8NHfRAEBmvYR+/0UKQFKmoQjA5B1Al7OMyPv8AUDqB5WymPH/P2pPJubZVwFAG1xfMlDL+z+MiXw6sqr0P9Bd23vdwPc/P/pTMXhz8j8f5gF9DO7lP4cBH5sCBes//DjKKPjS5T82bZhqW6XZP54gAxwPqtY/GBidtOIO7j+GmlNlQNz0PxLOeki8kfQ/b5HqtSUL+T/52Rq7xbfnP7jxI8KxQuU/tCXPcQ2p3j8IUPqOJCXiPxzDFnu4WvY/vNRPzHW78T+u5UqxN4H1P4VpZk0yKvo/LRrgXyln/T+vZr8Sp53+Px/ssEVsqwVAUpf8LtSzEkB58q0V9EcbQLArBPDDldi/OUUMn43Q5T+6EwYEuvb1PzYCcr8QpvE/NPpZtr+Z/z+kEXCbzIUWQNLiUlEElxRAlFQ8K+a4EkCWkWh6s8gXQF+TFZI7khtA",
          "dtype": "f8"
         }
        },
        {
         "line": {
          "color": "blue",
          "dash": "dash",
          "width": 1
         },
         "mode": "lines",
         "name": "68% ДИ: нижняя",
         "type": "scatter",
         "x": [
          "2023-06-27T00:00:00",
          "2023-09-26T06:00:00",
          "2023-12-26T12:00:00",
          "2024-03-26T18:00:00",
          "2024-06-26T00:00:00",
          "2024-09-25T06:00:00"
         ],
         "y": {
          "bdata": "af0b8+SE+T/T8IOakF4MQM8IZ1s/OAhAPWu0hKWfB0CRj+rETOQPQONhVm+ymBFA",
          "dtype": "f8"
         }
        },
        {
         "line": {
          "color": "blue",
          "dash": "dash",
          "width": 1
         },
         "mode": "lines",
         "name": "68% ДИ: верхняя",
         "type": "scatter",
         "x": [
          "2023-06-27T00:00:00",
          "2023-09-26T06:00:00",
          "2023-12-26T12:00:00",
          "2024-03-26T18:00:00",
          "2024-06-26T00:00:00",
          "2024-09-25T06:00:00"
         ],
         "y": {
          "bdata": "hbznYnOnAUDTK8LcurElQNDpxaqhVSRAIJJZQxLdIUCvN3ed254lQBxJD5EZZipA",
          "dtype": "f8"
         }
        },
        {
         "line": {
          "color": "black",
          "width": 1.5
         },
         "mode": "lines",
         "name": "Фактическая",
         "type": "scatter",
         "x": [
          "2005-07-01T00:00:00",
          "2005-09-30T06:00:00",
          "2005-12-30T12:00:00",
          "2006-03-31T18:00:00",
          "2006-07-01T00:00:00",
          "2006-09-30T06:00:00",
          "2006-12-30T12:00:00",
          "2007-03-31T18:00:00",
          "2007-07-01T00:00:00",
          "2007-09-30T06:00:00",
          "2007-12-30T12:00:00",
          "2008-03-30T18:00:00",
          "2008-06-30T00:00:00",
          "2008-09-29T06:00:00",
          "2008-12-29T12:00:00",
          "2009-03-30T18:00:00",
          "2009-06-30T00:00:00",
          "2009-09-29T06:00:00",
          "2009-12-29T12:00:00",
          "2010-03-30T18:00:00",
          "2010-06-30T00:00:00",
          "2010-09-29T06:00:00",
          "2010-12-29T12:00:00",
          "2011-03-30T18:00:00",
          "2011-06-30T00:00:00",
          "2011-09-29T06:00:00",
          "2011-12-29T12:00:00",
          "2012-03-29T18:00:00",
          "2012-06-29T00:00:00",
          "2012-09-28T06:00:00",
          "2012-12-28T12:00:00",
          "2013-03-29T18:00:00",
          "2013-06-29T00:00:00",
          "2013-09-28T06:00:00",
          "2013-12-28T12:00:00",
          "2014-03-29T18:00:00",
          "2014-06-29T00:00:00",
          "2014-09-28T06:00:00",
          "2014-12-28T12:00:00",
          "2015-03-29T18:00:00",
          "2015-06-29T00:00:00",
          "2015-09-28T06:00:00",
          "2015-12-28T12:00:00",
          "2016-03-28T18:00:00",
          "2016-06-28T00:00:00",
          "2016-09-27T06:00:00",
          "2016-12-27T12:00:00",
          "2017-03-28T18:00:00",
          "2017-06-28T00:00:00",
          "2017-09-27T06:00:00",
          "2017-12-27T12:00:00",
          "2018-03-28T18:00:00",
          "2018-06-28T00:00:00",
          "2018-09-27T06:00:00",
          "2018-12-27T12:00:00",
          "2019-03-28T18:00:00",
          "2019-06-28T00:00:00",
          "2019-09-27T06:00:00",
          "2019-12-27T12:00:00",
          "2020-03-27T18:00:00",
          "2020-06-27T00:00:00",
          "2020-09-26T06:00:00",
          "2020-12-26T12:00:00",
          "2021-03-27T18:00:00",
          "2021-06-27T00:00:00",
          "2021-09-26T06:00:00",
          "2021-12-26T12:00:00",
          "2022-03-27T18:00:00",
          "2022-06-27T00:00:00",
          "2022-09-26T06:00:00",
          "2022-12-26T12:00:00",
          "2023-03-27T18:00:00",
          "2023-06-27T00:00:00",
          "2023-09-26T06:00:00",
          "2023-12-26T12:00:00",
          "2024-03-26T18:00:00",
          "2024-06-26T00:00:00",
          "2024-09-25T06:00:00"
         ],
         "y": {
          "bdata": "ZvTzKu5yAUDcdvjbKtQAQJ6SlIBjEQhADLCG2iIa/j9M1gB/AysBQMD9gprRX/s/YCDOtrOX/T+KxtxM/MgAQDyNKudLxgdA1SxtHvYHEEBW5Mp8OSUKQPiWqxAkFw9AKBM5mQgiCEDOl6WkYa4HQEBP3KwVqApAijCNGi+QBUAAytMGsgwAQJhkjnhy8eo/oG7sqvoO+T8IFThXd8T3P5BRK5DFNgFAcABcgpbiBEB+uyDREyYIQEAYAu4OSvg/oCL++4te5z+8wKS1TwzzPwAiZSkOJ+A/MEd899Bo9z/Antdx4iIGQESF/tFBavk/KGoyqe6e8z/U/ROWfa33P1TR+fUuZf8/4CpHuBaP+D8gVZrSQ/z0PzjWJe7QzwRAFh4f6sDSAEA+xkUL5UsKQFyihx2Y3R1ATi0Y3fX/AUBc9a7L1O7/P06+CXAlVwFAgLLEnHPI+z8spvceprb0P/wB3tQfwvc/sEQyR/N38j9gYNpWLenlPwDfUeCN9eo/uM6Haovl5T8QgvJRQZzZP4D/uaPn2NY/OLJ/dFwL7j88kz0dudr0P/yXvhK1j/Q/SFrZ3sYQ+T8A2Dtjv8XnP3DOoW4LQOU/gCMpUme13j+wPKVjcSLiP/C3l4LlUPY/rA110Sm18T8QGmHXVIP1P1AajefvKvo/2LNU+xto/T9kTy8wPp/+PwzEO/rpqQVAnrL8+PW1EkCkEc1pYEcbQMACPbUTC9i/gLwpkUHP5T9EA3Onzfb1PzTM2euGiPE/zItKDuSW/z/615QydZsEQIhg2oYqq/w/oM09U335+z9SsEoVG8gEQNiWJMx2yQRA",
          "dtype": "f8",
          "shape": "78, 1"
         }
        }
       ],
       "layout": {
        "hovermode": "x unified",
        "legend": {
         "orientation": "h",
         "x": 1,
         "xanchor": "right",
         "y": 1.02,
         "yanchor": "bottom"
        },
        "margin": {
         "b": 50,
         "l": 50,
         "r": 50,
         "t": 50
        },
        "plot_bgcolor": "white",
        "showlegend": true,
        "template": {
         "data": {
          "bar": [
           {
            "error_x": {
             "color": "#2a3f5f"
            },
            "error_y": {
             "color": "#2a3f5f"
            },
            "marker": {
             "line": {
              "color": "#E5ECF6",
              "width": 0.5
             },
             "pattern": {
              "fillmode": "overlay",
              "size": 10,
              "solidity": 0.2
             }
            },
            "type": "bar"
           }
          ],
          "barpolar": [
           {
            "marker": {
             "line": {
              "color": "#E5ECF6",
              "width": 0.5
             },
             "pattern": {
              "fillmode": "overlay",
              "size": 10,
              "solidity": 0.2
             }
            },
            "type": "barpolar"
           }
          ],
          "carpet": [
           {
            "aaxis": {
             "endlinecolor": "#2a3f5f",
             "gridcolor": "white",
             "linecolor": "white",
             "minorgridcolor": "white",
             "startlinecolor": "#2a3f5f"
            },
            "baxis": {
             "endlinecolor": "#2a3f5f",
             "gridcolor": "white",
             "linecolor": "white",
             "minorgridcolor": "white",
             "startlinecolor": "#2a3f5f"
            },
            "type": "carpet"
           }
          ],
          "choropleth": [
           {
            "colorbar": {
             "outlinewidth": 0,
             "ticks": ""
            },
            "type": "choropleth"
           }
          ],
          "contour": [
           {
            "colorbar": {
             "outlinewidth": 0,
             "ticks": ""
            },
            "colorscale": [
             [
              0,
              "#0d0887"
             ],
             [
              0.1111111111111111,
              "#46039f"
             ],
             [
              0.2222222222222222,
              "#7201a8"
             ],
             [
              0.3333333333333333,
              "#9c179e"
             ],
             [
              0.4444444444444444,
              "#bd3786"
             ],
             [
              0.5555555555555556,
              "#d8576b"
             ],
             [
              0.6666666666666666,
              "#ed7953"
             ],
             [
              0.7777777777777778,
              "#fb9f3a"
             ],
             [
              0.8888888888888888,
              "#fdca26"
             ],
             [
              1,
              "#f0f921"
             ]
            ],
            "type": "contour"
           }
          ],
          "contourcarpet": [
           {
            "colorbar": {
             "outlinewidth": 0,
             "ticks": ""
            },
            "type": "contourcarpet"
           }
          ],
          "heatmap": [
           {
            "colorbar": {
             "outlinewidth": 0,
             "ticks": ""
            },
            "colorscale": [
             [
              0,
              "#0d0887"
             ],
             [
              0.1111111111111111,
              "#46039f"
             ],
             [
              0.2222222222222222,
              "#7201a8"
             ],
             [
              0.3333333333333333,
              "#9c179e"
             ],
             [
              0.4444444444444444,
              "#bd3786"
             ],
             [
              0.5555555555555556,
              "#d8576b"
             ],
             [
              0.6666666666666666,
              "#ed7953"
             ],
             [
              0.7777777777777778,
              "#fb9f3a"
             ],
             [
              0.8888888888888888,
              "#fdca26"
             ],
             [
              1,
              "#f0f921"
             ]
            ],
            "type": "heatmap"
           }
          ],
          "histogram": [
           {
            "marker": {
             "pattern": {
              "fillmode": "overlay",
              "size": 10,
              "solidity": 0.2
             }
            },
            "type": "histogram"
           }
          ],
          "histogram2d": [
           {
            "colorbar": {
             "outlinewidth": 0,
             "ticks": ""
            },
            "colorscale": [
             [
              0,
              "#0d0887"
             ],
             [
              0.1111111111111111,
              "#46039f"
             ],
             [
              0.2222222222222222,
              "#7201a8"
             ],
             [
              0.3333333333333333,
              "#9c179e"
             ],
             [
              0.4444444444444444,
              "#bd3786"
             ],
             [
              0.5555555555555556,
              "#d8576b"
             ],
             [
              0.6666666666666666,
              "#ed7953"
             ],
             [
              0.7777777777777778,
              "#fb9f3a"
             ],
             [
              0.8888888888888888,
              "#fdca26"
             ],
             [
              1,
              "#f0f921"
             ]
            ],
            "type": "histogram2d"
           }
          ],
          "histogram2dcontour": [
           {
            "colorbar": {
             "outlinewidth": 0,
             "ticks": ""
            },
            "colorscale": [
             [
              0,
              "#0d0887"
             ],
             [
              0.1111111111111111,
              "#46039f"
             ],
             [
              0.2222222222222222,
              "#7201a8"
             ],
             [
              0.3333333333333333,
              "#9c179e"
             ],
             [
              0.4444444444444444,
              "#bd3786"
             ],
             [
              0.5555555555555556,
              "#d8576b"
             ],
             [
              0.6666666666666666,
              "#ed7953"
             ],
             [
              0.7777777777777778,
              "#fb9f3a"
             ],
             [
              0.8888888888888888,
              "#fdca26"
             ],
             [
              1,
              "#f0f921"
             ]
            ],
            "type": "histogram2dcontour"
           }
          ],
          "mesh3d": [
           {
            "colorbar": {
             "outlinewidth": 0,
             "ticks": ""
            },
            "type": "mesh3d"
           }
          ],
          "parcoords": [
           {
            "line": {
             "colorbar": {
              "outlinewidth": 0,
              "ticks": ""
             }
            },
            "type": "parcoords"
           }
          ],
          "pie": [
           {
            "automargin": true,
            "type": "pie"
           }
          ],
          "scatter": [
           {
            "fillpattern": {
             "fillmode": "overlay",
             "size": 10,
             "solidity": 0.2
            },
            "type": "scatter"
           }
          ],
          "scatter3d": [
           {
            "line": {
             "colorbar": {
              "outlinewidth": 0,
              "ticks": ""
             }
            },
            "marker": {
             "colorbar": {
              "outlinewidth": 0,
              "ticks": ""
             }
            },
            "type": "scatter3d"
           }
          ],
          "scattercarpet": [
           {
            "marker": {
             "colorbar": {
              "outlinewidth": 0,
              "ticks": ""
             }
            },
            "type": "scattercarpet"
           }
          ],
          "scattergeo": [
           {
            "marker": {
             "colorbar": {
              "outlinewidth": 0,
              "ticks": ""
             }
            },
            "type": "scattergeo"
           }
          ],
          "scattergl": [
           {
            "marker": {
             "colorbar": {
              "outlinewidth": 0,
              "ticks": ""
             }
            },
            "type": "scattergl"
           }
          ],
          "scattermap": [
           {
            "marker": {
             "colorbar": {
              "outlinewidth": 0,
              "ticks": ""
             }
            },
            "type": "scattermap"
           }
          ],
          "scattermapbox": [
           {
            "marker": {
             "colorbar": {
              "outlinewidth": 0,
              "ticks": ""
             }
            },
            "type": "scattermapbox"
           }
          ],
          "scatterpolar": [
           {
            "marker": {
             "colorbar": {
              "outlinewidth": 0,
              "ticks": ""
             }
            },
            "type": "scatterpolar"
           }
          ],
          "scatterpolargl": [
           {
            "marker": {
             "colorbar": {
              "outlinewidth": 0,
              "ticks": ""
             }
            },
            "type": "scatterpolargl"
           }
          ],
          "scatterternary": [
           {
            "marker": {
             "colorbar": {
              "outlinewidth": 0,
              "ticks": ""
             }
            },
            "type": "scatterternary"
           }
          ],
          "surface": [
           {
            "colorbar": {
             "outlinewidth": 0,
             "ticks": ""
            },
            "colorscale": [
             [
              0,
              "#0d0887"
             ],
             [
              0.1111111111111111,
              "#46039f"
             ],
             [
              0.2222222222222222,
              "#7201a8"
             ],
             [
              0.3333333333333333,
              "#9c179e"
             ],
             [
              0.4444444444444444,
              "#bd3786"
             ],
             [
              0.5555555555555556,
              "#d8576b"
             ],
             [
              0.6666666666666666,
              "#ed7953"
             ],
             [
              0.7777777777777778,
              "#fb9f3a"
             ],
             [
              0.8888888888888888,
              "#fdca26"
             ],
             [
              1,
              "#f0f921"
             ]
            ],
            "type": "surface"
           }
          ],
          "table": [
           {
            "cells": {
             "fill": {
              "color": "#EBF0F8"
             },
             "line": {
              "color": "white"
             }
            },
            "header": {
             "fill": {
              "color": "#C8D4E3"
             },
             "line": {
              "color": "white"
             }
            },
            "type": "table"
           }
          ]
         },
         "layout": {
          "annotationdefaults": {
           "arrowcolor": "#2a3f5f",
           "arrowhead": 0,
           "arrowwidth": 1
          },
          "autotypenumbers": "strict",
          "coloraxis": {
           "colorbar": {
            "outlinewidth": 0,
            "ticks": ""
           }
          },
          "colorscale": {
           "diverging": [
            [
             0,
             "#8e0152"
            ],
            [
             0.1,
             "#c51b7d"
            ],
            [
             0.2,
             "#de77ae"
            ],
            [
             0.3,
             "#f1b6da"
            ],
            [
             0.4,
             "#fde0ef"
            ],
            [
             0.5,
             "#f7f7f7"
            ],
            [
             0.6,
             "#e6f5d0"
            ],
            [
             0.7,
             "#b8e186"
            ],
            [
             0.8,
             "#7fbc41"
            ],
            [
             0.9,
             "#4d9221"
            ],
            [
             1,
             "#276419"
            ]
           ],
           "sequential": [
            [
             0,
             "#0d0887"
            ],
            [
             0.1111111111111111,
             "#46039f"
            ],
            [
             0.2222222222222222,
             "#7201a8"
            ],
            [
             0.3333333333333333,
             "#9c179e"
            ],
            [
             0.4444444444444444,
             "#bd3786"
            ],
            [
             0.5555555555555556,
             "#d8576b"
            ],
            [
             0.6666666666666666,
             "#ed7953"
            ],
            [
             0.7777777777777778,
             "#fb9f3a"
            ],
            [
             0.8888888888888888,
             "#fdca26"
            ],
            [
             1,
             "#f0f921"
            ]
           ],
           "sequentialminus": [
            [
             0,
             "#0d0887"
            ],
            [
             0.1111111111111111,
             "#46039f"
            ],
            [
             0.2222222222222222,
             "#7201a8"
            ],
            [
             0.3333333333333333,
             "#9c179e"
            ],
            [
             0.4444444444444444,
             "#bd3786"
            ],
            [
             0.5555555555555556,
             "#d8576b"
            ],
            [
             0.6666666666666666,
             "#ed7953"
            ],
            [
             0.7777777777777778,
             "#fb9f3a"
            ],
            [
             0.8888888888888888,
             "#fdca26"
            ],
            [
             1,
             "#f0f921"
            ]
           ]
          },
          "colorway": [
           "#636efa",
           "#EF553B",
           "#00cc96",
           "#ab63fa",
           "#FFA15A",
           "#19d3f3",
           "#FF6692",
           "#B6E880",
           "#FF97FF",
           "#FECB52"
          ],
          "font": {
           "color": "#2a3f5f"
          },
          "geo": {
           "bgcolor": "white",
           "lakecolor": "white",
           "landcolor": "#E5ECF6",
           "showlakes": true,
           "showland": true,
           "subunitcolor": "white"
          },
          "hoverlabel": {
           "align": "left"
          },
          "hovermode": "closest",
          "mapbox": {
           "style": "light"
          },
          "paper_bgcolor": "white",
          "plot_bgcolor": "#E5ECF6",
          "polar": {
           "angularaxis": {
            "gridcolor": "white",
            "linecolor": "white",
            "ticks": ""
           },
           "bgcolor": "#E5ECF6",
           "radialaxis": {
            "gridcolor": "white",
            "linecolor": "white",
            "ticks": ""
           }
          },
          "scene": {
           "xaxis": {
            "backgroundcolor": "#E5ECF6",
            "gridcolor": "white",
            "gridwidth": 2,
            "linecolor": "white",
            "showbackground": true,
            "ticks": "",
            "zerolinecolor": "white"
           },
           "yaxis": {
            "backgroundcolor": "#E5ECF6",
            "gridcolor": "white",
            "gridwidth": 2,
            "linecolor": "white",
            "showbackground": true,
            "ticks": "",
            "zerolinecolor": "white"
           },
           "zaxis": {
            "backgroundcolor": "#E5ECF6",
            "gridcolor": "white",
            "gridwidth": 2,
            "linecolor": "white",
            "showbackground": true,
            "ticks": "",
            "zerolinecolor": "white"
           }
          },
          "shapedefaults": {
           "line": {
            "color": "#2a3f5f"
           }
          },
          "ternary": {
           "aaxis": {
            "gridcolor": "white",
            "linecolor": "white",
            "ticks": ""
           },
           "baxis": {
            "gridcolor": "white",
            "linecolor": "white",
            "ticks": ""
           },
           "bgcolor": "#E5ECF6",
           "caxis": {
            "gridcolor": "white",
            "linecolor": "white",
            "ticks": ""
           }
          },
          "title": {
           "x": 0.05
          },
          "xaxis": {
           "automargin": true,
           "gridcolor": "white",
           "linecolor": "white",
           "ticks": "",
           "title": {
            "standoff": 15
           },
           "zerolinecolor": "white",
           "zerolinewidth": 2
          },
          "yaxis": {
           "automargin": true,
           "gridcolor": "white",
           "linecolor": "white",
           "ticks": "",
           "title": {
            "standoff": 15
           },
           "zerolinecolor": "white",
           "zerolinewidth": 2
          }
         }
        },
        "title": {
         "text": "Инфляция, QoQ: фактическая vs контрфактическая (КС = 7,5% с 3 квартала 2023 г.)"
        },
        "xaxis": {
         "gridcolor": "LightGrey",
         "gridwidth": 1,
         "range": [
          "2005-07-01T00:00:00",
          "2024-09-25T06:00:00"
         ],
         "showgrid": true,
         "title": {
          "text": "Квартал"
         }
        },
        "yaxis": {
         "gridcolor": "LightGrey",
         "gridwidth": 1,
         "range": [
          -1.3756760854630947,
          8.466400586513
         ],
         "showgrid": true,
         "title": {
          "text": "Инфляция (%)"
         }
        }
       }
      }
     },
     "metadata": {},
     "output_type": "display_data"
    }
   ],
   "source": [
    "# Задаем параметры модели\n",
    "T = Xmat.shape[0]\n",
    "N_ITER = beta.shape[1]\n",
    "N_VARS = 4\n",
    "N_LAGS = 2\n",
    "N_REG = 10\n",
    "\n",
    "# Индексы переменных\n",
    "P = 1 - 1\n",
    "Y = 2 - 1\n",
    "I = 3 - 1\n",
    "B = 4 - 1\n",
    "T_FIX = 73\n",
    "I_TARGET = 7.5\n",
    "LAST_POINT = T - T_FIX + 1\n",
    "\n",
    "# Готовим трехмерный объект для хранения 1000 контрфактических итераций по 4 переменным\n",
    "CF = np.zeros((T, N_ITER, N_VARS))\n",
    "\n",
    "# Готовим объект чтобы потом мочь посмотреть новые шоки ДКП\n",
    "CF_EPS_MP = np.zeros((N_ITER, T))\n",
    "\n",
    "for i in range(N_ITER):\n",
    "    # Распаковываем параметры каждой итерации\n",
    "    beta_i = beta[:, i]\n",
    "    \n",
    "    # Восстанавливаем коэффициенты VAR\n",
    "    B_p = beta_i[0:10]\n",
    "    B_y = beta_i[10:20]\n",
    "    B_i = beta_i[20:30]\n",
    "    B_b = beta_i[30:40]\n",
    "    \n",
    "    # Структурная матрица A0^{-1} для каждой итерации\n",
    "    A0inv_i_full = np.vstack([A0inv_p[i, :], A0inv_y[i, :], A0inv_i[i, :],  A0inv_b[i, :]])\n",
    "    \n",
    "    # Шоки\n",
    "    shocks_as = shocks_AS[i, :].reshape(-1, 1)\n",
    "    shocks_ad = shocks_PrivateAD[i, :].reshape(-1, 1)\n",
    "    shocks_mp = shocks_MP[i, :].reshape(-1, 1)\n",
    "    shocks_fp = shocks_FP[i, :].reshape(-1, 1)\n",
    "    \n",
    "    # Восстанавливаем начальные значения переменных до t_fix\n",
    "    Y_temp = np.zeros((T, N_VARS))\n",
    "    \n",
    "    for t in range(T_FIX):\n",
    "        x_t = Xmat[t, :].reshape(-1, 1)\n",
    "        eps_t = np.vstack([\n",
    "            shocks_as[t],\n",
    "            shocks_ad[t],\n",
    "            shocks_mp[t],\n",
    "            shocks_fp[t]\n",
    "        ])\n",
    "        \n",
    "        Y_temp[t, P] = (B_p.T @ x_t + A0inv_i_full[P, :] @ eps_t).item()\n",
    "        Y_temp[t, Y] = (B_y.T @ x_t + A0inv_i_full[Y, :] @ eps_t).item()\n",
    "        Y_temp[t, I] = (B_i.T @ x_t + A0inv_i_full[I, :] @ eps_t).item()\n",
    "        Y_temp[t, B] = (B_b.T @ x_t + A0inv_i_full[B, :] @ eps_t).item()\n",
    "    \n",
    "    # Считаем контрфакт с момента фиксации\n",
    "    for t in range(T_FIX, T):\n",
    "        # Собираем лаги (размер (4,))\n",
    "        l1 = Y_temp[t-1, :]\n",
    "        l2 = Y_temp[t-2, :]\n",
    "\n",
    "        # Формируем x_sim как вектор [10 x 1]\n",
    "        x_sim = np.vstack([l1.reshape(-1, 1), l2.reshape(-1, 1), Xmat[t, 8], Xmat[t, 9]])\n",
    "        \n",
    "        # Вычисляем шоки\n",
    "        eps_as = shocks_as[t]\n",
    "        eps_ad = shocks_ad[t]\n",
    "        eps_fp = shocks_fp[t]\n",
    "        \n",
    "        # Вычисляем eps_mp\n",
    "        numerator = I_TARGET - (B_i.T @ x_sim + A0inv_i_full[I, [0, 1, 3]] @ np.vstack([eps_as, eps_ad, eps_fp]))\n",
    "        eps_mp = (numerator / A0inv_i_full[I, 2]).item()\n",
    "        \n",
    "        # Собираем вектор шоков [4 x 1]\n",
    "        eps_t = np.vstack([eps_as, eps_ad, eps_mp, eps_fp])\n",
    "        \n",
    "        # Обновляем Y_temp\n",
    "        Y_temp[t, P] = (B_p.T @ x_sim + A0inv_i_full[P, :] @ eps_t).item()\n",
    "        Y_temp[t, Y] = (B_y.T @ x_sim + A0inv_i_full[Y, :] @ eps_t).item()\n",
    "        Y_temp[t, I] = I_TARGET  # фиксируем ставку\n",
    "        Y_temp[t, B] = (B_b.T @ x_sim + A0inv_i_full[B, :] @ eps_t).item()\n",
    "        \n",
    "        # Обновляем шок MP\n",
    "        shocks_mp[t] = eps_mp.item() if isinstance(eps_mp, np.ndarray) else eps_mp\n",
    "    \n",
    "    # Сохраняем результат симуляции\n",
    "    CF[:, i, :] = Y_temp\n",
    "    CF_EPS_MP[i, :] = shocks_mp.ravel()\n",
    "\n",
    "# Анализируем\n",
    "cf_i = CF[:, :, I]\n",
    "cf_p = CF[:, :, P]\n",
    "cf_y = CF[:, :, Y]\n",
    "cf_b = CF[:, :, B]\n",
    "\n",
    "p_median = np.nanmedian(cf_p, axis=1)\n",
    "p_low = np.nanpercentile(cf_p, 16, axis=1)\n",
    "p_high = np.nanpercentile(cf_p, 84, axis=1)\n",
    "\n",
    "quarters = [START_DATE + timedelta(days=91.25 * i) for i in range(T)]\n",
    "\n",
    "# Создаем фигуру\n",
    "fig = go.Figure()\n",
    "\n",
    "# Добавляем линии на график\n",
    "fig.add_trace(go.Scatter(\n",
    "    x=quarters,\n",
    "    y=p_median,\n",
    "    mode='lines',\n",
    "    name='Контрфакт (КС = 7,5%)',\n",
    "    line=dict(color='blue', width=2)\n",
    "))\n",
    "\n",
    "fig.add_trace(go.Scatter(\n",
    "    x=quarters[-LAST_POINT:],\n",
    "    y=p_low[-LAST_POINT:],\n",
    "    mode='lines',\n",
    "    name='68% ДИ: нижняя',\n",
    "    line=dict(color='blue', width=1, dash='dash')\n",
    "))\n",
    "\n",
    "fig.add_trace(go.Scatter(\n",
    "    x=quarters[-LAST_POINT:],\n",
    "    y=p_high[-LAST_POINT:],\n",
    "    mode='lines',\n",
    "    name='68% ДИ: верхняя',\n",
    "    line=dict(color='blue', width=1, dash='dash')\n",
    "))\n",
    "\n",
    "fig.add_trace(go.Scatter(\n",
    "    x=quarters,\n",
    "    y=actual_p,\n",
    "    mode='lines',\n",
    "    name='Фактическая',\n",
    "    line=dict(color='black', width=1.5)\n",
    "))\n",
    "\n",
    "# Настраиваем оформление\n",
    "fig.update_layout(\n",
    "    title='Инфляция, QoQ: фактическая vs контрфактическая (КС = 7,5% с 3 квартала 2023 г.)',\n",
    "    xaxis_title='Квартал',\n",
    "    yaxis_title='Инфляция (%)',\n",
    "    legend=dict(orientation=\"h\", yanchor=\"bottom\", y=1.02, xanchor=\"right\", x=1),\n",
    "    hovermode=\"x unified\",\n",
    "    margin=dict(l=50, r=50, b=50, t=50),\n",
    "    xaxis_range=[quarters[0], quarters[-1]],\n",
    "    yaxis_range=[actual_p.min() - 1, actual_p.max() + 1],\n",
    "    plot_bgcolor='white',\n",
    "    showlegend=True\n",
    ")\n",
    "\n",
    "# Добавляем сетку\n",
    "fig.update_xaxes(showgrid=True, gridwidth=1, gridcolor='LightGrey')\n",
    "fig.update_yaxes(showgrid=True, gridwidth=1, gridcolor='LightGrey')\n",
    "\n",
    "# Показать график\n",
    "fig.show()\n",
    "\n",
    "fig.write_html(SAVE_PATH + \"Инфляция, QoQ. фактическая vs контрфактическая (КС = 7,5% с 3 квартала 2023 г.).html\")"
   ]
  },
  {
   "cell_type": "code",
   "execution_count": null,
   "id": "d9c50481",
   "metadata": {},
   "outputs": [],
   "source": []
  }
 ],
 "metadata": {
  "kernelspec": {
   "display_name": "venv",
   "language": "python",
   "name": "python3"
  },
  "language_info": {
   "codemirror_mode": {
    "name": "ipython",
    "version": 3
   },
   "file_extension": ".py",
   "mimetype": "text/x-python",
   "name": "python",
   "nbconvert_exporter": "python",
   "pygments_lexer": "ipython3",
   "version": "3.9.13"
  }
 },
 "nbformat": 4,
 "nbformat_minor": 5
}
